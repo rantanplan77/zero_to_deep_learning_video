{
  "nbformat": 4,
  "nbformat_minor": 0,
  "metadata": {
    "kernelspec": {
      "display_name": "Python 3",
      "language": "python",
      "name": "python3"
    },
    "language_info": {
      "codemirror_mode": {
        "name": "ipython",
        "version": 3
      },
      "file_extension": ".py",
      "mimetype": "text/x-python",
      "name": "python",
      "nbconvert_exporter": "python",
      "pygments_lexer": "ipython3",
      "version": "3.5.3"
    },
    "colab": {
      "name": "3 Machine Learning.ipynb",
      "provenance": [],
      "toc_visible": true
    }
  },
  "cells": [
    {
      "cell_type": "markdown",
      "metadata": {
        "id": "IJr1lsUoYr1a",
        "colab_type": "text"
      },
      "source": [
        "# Linear Regression"
      ]
    },
    {
      "cell_type": "code",
      "metadata": {
        "id": "8-PQqvRLYr1a",
        "colab_type": "code",
        "colab": {}
      },
      "source": [
        "%matplotlib inline\n",
        "import matplotlib.pyplot as plt\n",
        "import pandas as pd\n",
        "import numpy as np"
      ],
      "execution_count": 0,
      "outputs": []
    },
    {
      "cell_type": "code",
      "metadata": {
        "id": "aAFgz8zKamKr",
        "colab_type": "code",
        "colab": {
          "base_uri": "https://localhost:8080/",
          "height": 102
        },
        "outputId": "6eedd97c-6bda-4a59-8afd-b8bee9ffb493"
      },
      "source": [
        "!git clone https://github.com/Dataweekends/zero_to_deep_learning_video.git"
      ],
      "execution_count": 3,
      "outputs": [
        {
          "output_type": "stream",
          "text": [
            "Cloning into 'zero_to_deep_learning_video'...\n",
            "remote: Enumerating objects: 364, done.\u001b[K\n",
            "Receiving objects:   0% (1/364)   \rReceiving objects:   1% (4/364)   \rReceiving objects:   2% (8/364)   \rReceiving objects:   3% (11/364)   \rReceiving objects:   4% (15/364)   \rReceiving objects:   5% (19/364)   \rReceiving objects:   6% (22/364)   \rReceiving objects:   7% (26/364)   \rReceiving objects:   8% (30/364)   \rReceiving objects:   9% (33/364)   \rReceiving objects:  10% (37/364)   \rReceiving objects:  11% (41/364)   \rReceiving objects:  12% (44/364)   \rReceiving objects:  13% (48/364)   \rReceiving objects:  14% (51/364)   \rReceiving objects:  15% (55/364)   \rReceiving objects:  16% (59/364)   \rReceiving objects:  17% (62/364)   \rReceiving objects:  18% (66/364)   \rReceiving objects:  19% (70/364)   \rReceiving objects:  20% (73/364)   \rReceiving objects:  21% (77/364)   \rReceiving objects:  22% (81/364)   \rReceiving objects:  23% (84/364)   \rReceiving objects:  24% (88/364)   \rReceiving objects:  25% (91/364)   \rReceiving objects:  26% (95/364)   \rReceiving objects:  27% (99/364)   \rReceiving objects:  28% (102/364)   \rReceiving objects:  29% (106/364)   \rReceiving objects:  30% (110/364)   \rReceiving objects:  31% (113/364)   \rReceiving objects:  32% (117/364)   \rReceiving objects:  33% (121/364)   \rReceiving objects:  34% (124/364)   \rReceiving objects:  35% (128/364)   \rReceiving objects:  36% (132/364)   \rReceiving objects:  37% (135/364)   \rReceiving objects:  38% (139/364)   \rReceiving objects:  39% (142/364)   \rReceiving objects:  40% (146/364)   \rReceiving objects:  41% (150/364)   \rReceiving objects:  42% (153/364)   \rReceiving objects:  43% (157/364)   \rReceiving objects:  44% (161/364)   \rReceiving objects:  45% (164/364)   \rReceiving objects:  46% (168/364)   \rReceiving objects:  47% (172/364)   \rReceiving objects:  48% (175/364)   \rReceiving objects:  49% (179/364)   \rReceiving objects:  50% (182/364)   \rReceiving objects:  51% (186/364)   \rReceiving objects:  52% (190/364)   \rReceiving objects:  53% (193/364)   \rReceiving objects:  54% (197/364)   \rReceiving objects:  55% (201/364)   \rReceiving objects:  56% (204/364)   \rReceiving objects:  57% (208/364)   \rReceiving objects:  58% (212/364)   \rReceiving objects:  59% (215/364)   \rReceiving objects:  60% (219/364)   \rReceiving objects:  61% (223/364)   \rReceiving objects:  62% (226/364)   \rReceiving objects:  63% (230/364)   \rReceiving objects:  64% (233/364)   \rReceiving objects:  65% (237/364)   \rReceiving objects:  66% (241/364)   \rReceiving objects:  67% (244/364)   \rReceiving objects:  68% (248/364)   \rReceiving objects:  69% (252/364)   \rReceiving objects:  70% (255/364)   \rReceiving objects:  71% (259/364)   \rReceiving objects:  72% (263/364)   \rReceiving objects:  73% (266/364)   \rReceiving objects:  74% (270/364)   \rReceiving objects:  75% (273/364)   \rReceiving objects:  76% (277/364)   \rReceiving objects:  77% (281/364)   \rReceiving objects:  78% (284/364)   \rReceiving objects:  79% (288/364)   \rReceiving objects:  80% (292/364)   \rReceiving objects:  81% (295/364)   \rReceiving objects:  82% (299/364)   \rremote: Total 364 (delta 0), reused 0 (delta 0), pack-reused 364\u001b[K\n",
            "Receiving objects:  83% (303/364)   \rReceiving objects:  84% (306/364)   \rReceiving objects:  85% (310/364)   \rReceiving objects:  86% (314/364)   \rReceiving objects:  87% (317/364)   \rReceiving objects:  88% (321/364)   \rReceiving objects:  89% (324/364)   \rReceiving objects:  90% (328/364)   \rReceiving objects:  91% (332/364)   \rReceiving objects:  92% (335/364)   \rReceiving objects:  93% (339/364)   \rReceiving objects:  94% (343/364)   \rReceiving objects:  95% (346/364)   \rReceiving objects:  96% (350/364)   \rReceiving objects:  97% (354/364)   \rReceiving objects:  98% (357/364)   \rReceiving objects:  99% (361/364)   \rReceiving objects: 100% (364/364)   \rReceiving objects: 100% (364/364), 6.53 MiB | 22.88 MiB/s, done.\n",
            "Resolving deltas:   0% (0/227)   \rResolving deltas:   1% (3/227)   \rResolving deltas:   2% (5/227)   \rResolving deltas:   4% (10/227)   \rResolving deltas:   6% (14/227)   \rResolving deltas:  15% (36/227)   \rResolving deltas:  16% (38/227)   \rResolving deltas:  17% (40/227)   \rResolving deltas:  18% (41/227)   \rResolving deltas:  22% (52/227)   \rResolving deltas:  26% (61/227)   \rResolving deltas:  36% (82/227)   \rResolving deltas:  37% (84/227)   \rResolving deltas:  39% (90/227)   \rResolving deltas:  42% (97/227)   \rResolving deltas:  53% (122/227)   \rResolving deltas:  66% (150/227)   \rResolving deltas:  74% (169/227)   \rResolving deltas:  78% (178/227)   \rResolving deltas:  81% (185/227)   \rResolving deltas:  85% (194/227)   \rResolving deltas:  92% (211/227)   \rResolving deltas:  93% (212/227)   \rResolving deltas:  94% (214/227)   \rResolving deltas: 100% (227/227)   \rResolving deltas: 100% (227/227), done.\n"
          ],
          "name": "stdout"
        }
      ]
    },
    {
      "cell_type": "code",
      "metadata": {
        "id": "fUtIyK3gYr1e",
        "colab_type": "code",
        "colab": {}
      },
      "source": [
        "df = pd.read_csv('zero_to_deep_learning_video/data/weight-height.csv')"
      ],
      "execution_count": 0,
      "outputs": []
    },
    {
      "cell_type": "code",
      "metadata": {
        "id": "MPJrgUgbYr1h",
        "colab_type": "code",
        "colab": {
          "base_uri": "https://localhost:8080/",
          "height": 204
        },
        "outputId": "97d4aa13-53ad-4e02-d4ef-e752a81d2030"
      },
      "source": [
        "df.head()"
      ],
      "execution_count": 4,
      "outputs": [
        {
          "output_type": "execute_result",
          "data": {
            "text/html": [
              "<div>\n",
              "<style scoped>\n",
              "    .dataframe tbody tr th:only-of-type {\n",
              "        vertical-align: middle;\n",
              "    }\n",
              "\n",
              "    .dataframe tbody tr th {\n",
              "        vertical-align: top;\n",
              "    }\n",
              "\n",
              "    .dataframe thead th {\n",
              "        text-align: right;\n",
              "    }\n",
              "</style>\n",
              "<table border=\"1\" class=\"dataframe\">\n",
              "  <thead>\n",
              "    <tr style=\"text-align: right;\">\n",
              "      <th></th>\n",
              "      <th>Gender</th>\n",
              "      <th>Height</th>\n",
              "      <th>Weight</th>\n",
              "    </tr>\n",
              "  </thead>\n",
              "  <tbody>\n",
              "    <tr>\n",
              "      <th>0</th>\n",
              "      <td>Male</td>\n",
              "      <td>73.847017</td>\n",
              "      <td>241.893563</td>\n",
              "    </tr>\n",
              "    <tr>\n",
              "      <th>1</th>\n",
              "      <td>Male</td>\n",
              "      <td>68.781904</td>\n",
              "      <td>162.310473</td>\n",
              "    </tr>\n",
              "    <tr>\n",
              "      <th>2</th>\n",
              "      <td>Male</td>\n",
              "      <td>74.110105</td>\n",
              "      <td>212.740856</td>\n",
              "    </tr>\n",
              "    <tr>\n",
              "      <th>3</th>\n",
              "      <td>Male</td>\n",
              "      <td>71.730978</td>\n",
              "      <td>220.042470</td>\n",
              "    </tr>\n",
              "    <tr>\n",
              "      <th>4</th>\n",
              "      <td>Male</td>\n",
              "      <td>69.881796</td>\n",
              "      <td>206.349801</td>\n",
              "    </tr>\n",
              "  </tbody>\n",
              "</table>\n",
              "</div>"
            ],
            "text/plain": [
              "  Gender     Height      Weight\n",
              "0   Male  73.847017  241.893563\n",
              "1   Male  68.781904  162.310473\n",
              "2   Male  74.110105  212.740856\n",
              "3   Male  71.730978  220.042470\n",
              "4   Male  69.881796  206.349801"
            ]
          },
          "metadata": {
            "tags": []
          },
          "execution_count": 4
        }
      ]
    },
    {
      "cell_type": "code",
      "metadata": {
        "id": "iiDtZb8WYr1l",
        "colab_type": "code",
        "colab": {
          "base_uri": "https://localhost:8080/",
          "height": 312
        },
        "outputId": "20c56293-9bea-41bb-ea55-f56866e062d2"
      },
      "source": [
        "df.plot(kind='scatter',\n",
        "        x='Height',\n",
        "        y='Weight',\n",
        "        title='Weight and Height in adults')"
      ],
      "execution_count": 5,
      "outputs": [
        {
          "output_type": "execute_result",
          "data": {
            "text/plain": [
              "<matplotlib.axes._subplots.AxesSubplot at 0x7fface78ee10>"
            ]
          },
          "metadata": {
            "tags": []
          },
          "execution_count": 5
        },
        {
          "output_type": "display_data",
          "data": {
            "image/png": "[encoded data removed]",
            "text/plain": [
              "<Figure size 432x288 with 1 Axes>"
            ]
          },
          "metadata": {
            "tags": [],
            "needs_background": "light"
          }
        }
      ]
    },
    {
      "cell_type": "code",
      "metadata": {
        "id": "8BLt36f5Yr1n",
        "colab_type": "code",
        "colab": {
          "base_uri": "https://localhost:8080/",
          "height": 312
        },
        "outputId": "c63d4783-8b3c-4a47-a570-b32617318c71"
      },
      "source": [
        "df.plot(kind='scatter',\n",
        "        x='Height',\n",
        "        y='Weight',\n",
        "        title='Weight and Height in adults')\n",
        "\n",
        "# Here we're plotting the red line 'by hand' with fixed values\n",
        "# We'll try to learn this line with an algorithm below\n",
        "plt.plot([55, 78], [75, 250], color='red', linewidth=3)"
      ],
      "execution_count": 7,
      "outputs": [
        {
          "output_type": "execute_result",
          "data": {
            "text/plain": [
              "[<matplotlib.lines.Line2D at 0x7ffacb9e5470>]"
            ]
          },
          "metadata": {
            "tags": []
          },
          "execution_count": 7
        },
        {
          "output_type": "display_data",
          "data": {
            "image/png": "[encoded data removed]",
            "text/plain": [
              "<Figure size 432x288 with 1 Axes>"
            ]
          },
          "metadata": {
            "tags": [],
            "needs_background": "light"
          }
        }
      ]
    },
    {
      "cell_type": "code",
      "metadata": {
        "id": "DXRjhT95Yr1p",
        "colab_type": "code",
        "colab": {}
      },
      "source": [
        "def line(x, w=0, b=0):\n",
        "    return x * w + b"
      ],
      "execution_count": 0,
      "outputs": []
    },
    {
      "cell_type": "code",
      "metadata": {
        "id": "tyyBk5PDYr1t",
        "colab_type": "code",
        "colab": {}
      },
      "source": [
        "x = np.linspace(55, 80, 100)"
      ],
      "execution_count": 0,
      "outputs": []
    },
    {
      "cell_type": "code",
      "metadata": {
        "id": "X_Azjq1cYr1w",
        "colab_type": "code",
        "colab": {
          "base_uri": "https://localhost:8080/",
          "height": 357
        },
        "outputId": "cfba7fe4-c29b-49f5-e40d-b08a8641e026"
      },
      "source": [
        "x"
      ],
      "execution_count": 10,
      "outputs": [
        {
          "output_type": "execute_result",
          "data": {
            "text/plain": [
              "array([55.        , 55.25252525, 55.50505051, 55.75757576, 56.01010101,\n",
              "       56.26262626, 56.51515152, 56.76767677, 57.02020202, 57.27272727,\n",
              "       57.52525253, 57.77777778, 58.03030303, 58.28282828, 58.53535354,\n",
              "       58.78787879, 59.04040404, 59.29292929, 59.54545455, 59.7979798 ,\n",
              "       60.05050505, 60.3030303 , 60.55555556, 60.80808081, 61.06060606,\n",
              "       61.31313131, 61.56565657, 61.81818182, 62.07070707, 62.32323232,\n",
              "       62.57575758, 62.82828283, 63.08080808, 63.33333333, 63.58585859,\n",
              "       63.83838384, 64.09090909, 64.34343434, 64.5959596 , 64.84848485,\n",
              "       65.1010101 , 65.35353535, 65.60606061, 65.85858586, 66.11111111,\n",
              "       66.36363636, 66.61616162, 66.86868687, 67.12121212, 67.37373737,\n",
              "       67.62626263, 67.87878788, 68.13131313, 68.38383838, 68.63636364,\n",
              "       68.88888889, 69.14141414, 69.39393939, 69.64646465, 69.8989899 ,\n",
              "       70.15151515, 70.4040404 , 70.65656566, 70.90909091, 71.16161616,\n",
              "       71.41414141, 71.66666667, 71.91919192, 72.17171717, 72.42424242,\n",
              "       72.67676768, 72.92929293, 73.18181818, 73.43434343, 73.68686869,\n",
              "       73.93939394, 74.19191919, 74.44444444, 74.6969697 , 74.94949495,\n",
              "       75.2020202 , 75.45454545, 75.70707071, 75.95959596, 76.21212121,\n",
              "       76.46464646, 76.71717172, 76.96969697, 77.22222222, 77.47474747,\n",
              "       77.72727273, 77.97979798, 78.23232323, 78.48484848, 78.73737374,\n",
              "       78.98989899, 79.24242424, 79.49494949, 79.74747475, 80.        ])"
            ]
          },
          "metadata": {
            "tags": []
          },
          "execution_count": 10
        }
      ]
    },
    {
      "cell_type": "code",
      "metadata": {
        "id": "4tVk05xGYr1y",
        "colab_type": "code",
        "colab": {
          "base_uri": "https://localhost:8080/",
          "height": 442
        },
        "outputId": "ca8f1011-b8c2-457d-988e-0e7965a79794"
      },
      "source": [
        "yhat = line(x, w=8, b=-370)\n",
        "yhat"
      ],
      "execution_count": 42,
      "outputs": [
        {
          "output_type": "execute_result",
          "data": {
            "text/plain": [
              "array([ 70.        ,  72.02020202,  74.04040404,  76.06060606,\n",
              "        78.08080808,  80.1010101 ,  82.12121212,  84.14141414,\n",
              "        86.16161616,  88.18181818,  90.2020202 ,  92.22222222,\n",
              "        94.24242424,  96.26262626,  98.28282828, 100.3030303 ,\n",
              "       102.32323232, 104.34343434, 106.36363636, 108.38383838,\n",
              "       110.4040404 , 112.42424242, 114.44444444, 116.46464646,\n",
              "       118.48484848, 120.50505051, 122.52525253, 124.54545455,\n",
              "       126.56565657, 128.58585859, 130.60606061, 132.62626263,\n",
              "       134.64646465, 136.66666667, 138.68686869, 140.70707071,\n",
              "       142.72727273, 144.74747475, 146.76767677, 148.78787879,\n",
              "       150.80808081, 152.82828283, 154.84848485, 156.86868687,\n",
              "       158.88888889, 160.90909091, 162.92929293, 164.94949495,\n",
              "       166.96969697, 168.98989899, 171.01010101, 173.03030303,\n",
              "       175.05050505, 177.07070707, 179.09090909, 181.11111111,\n",
              "       183.13131313, 185.15151515, 187.17171717, 189.19191919,\n",
              "       191.21212121, 193.23232323, 195.25252525, 197.27272727,\n",
              "       199.29292929, 201.31313131, 203.33333333, 205.35353535,\n",
              "       207.37373737, 209.39393939, 211.41414141, 213.43434343,\n",
              "       215.45454545, 217.47474747, 219.49494949, 221.51515152,\n",
              "       223.53535354, 225.55555556, 227.57575758, 229.5959596 ,\n",
              "       231.61616162, 233.63636364, 235.65656566, 237.67676768,\n",
              "       239.6969697 , 241.71717172, 243.73737374, 245.75757576,\n",
              "       247.77777778, 249.7979798 , 251.81818182, 253.83838384,\n",
              "       255.85858586, 257.87878788, 259.8989899 , 261.91919192,\n",
              "       263.93939394, 265.95959596, 267.97979798, 270.        ])"
            ]
          },
          "metadata": {
            "tags": []
          },
          "execution_count": 42
        }
      ]
    },
    {
      "cell_type": "code",
      "metadata": {
        "id": "nmI1_h_WYr14",
        "colab_type": "code",
        "colab": {
          "base_uri": "https://localhost:8080/",
          "height": 312
        },
        "outputId": "d0a4a040-a10c-44d9-8d76-a186adc5025d"
      },
      "source": [
        "df.plot(kind='scatter',\n",
        "        x='Height',\n",
        "        y='Weight',\n",
        "        title='Weight and Height in adults')\n",
        "plt.plot(x, yhat, color='red', linewidth=3)"
      ],
      "execution_count": 43,
      "outputs": [
        {
          "output_type": "execute_result",
          "data": {
            "text/plain": [
              "[<matplotlib.lines.Line2D at 0x7ffacb620390>]"
            ]
          },
          "metadata": {
            "tags": []
          },
          "execution_count": 43
        },
        {
          "output_type": "display_data",
          "data": {
            "image/png": "[encoded data removed]",
            "text/plain": [
              "<Figure size 432x288 with 1 Axes>"
            ]
          },
          "metadata": {
            "tags": [],
            "needs_background": "light"
          }
        }
      ]
    },
    {
      "cell_type": "markdown",
      "metadata": {
        "id": "fuvQL0peYr16",
        "colab_type": "text"
      },
      "source": [
        "### Cost Function"
      ]
    },
    {
      "cell_type": "code",
      "metadata": {
        "id": "3UdWK0DgYr17",
        "colab_type": "code",
        "colab": {}
      },
      "source": [
        "def mean_squared_error(y_true, y_pred):\n",
        "    s = (y_true - y_pred)**2\n",
        "    return s.mean()"
      ],
      "execution_count": 0,
      "outputs": []
    },
    {
      "cell_type": "code",
      "metadata": {
        "id": "tJSqy9f8Yr19",
        "colab_type": "code",
        "colab": {}
      },
      "source": [
        "X = df[['Height']].values\n",
        "y_true = df['Weight'].values"
      ],
      "execution_count": 0,
      "outputs": []
    },
    {
      "cell_type": "code",
      "metadata": {
        "id": "8x9rlTPqYr2A",
        "colab_type": "code",
        "colab": {
          "base_uri": "https://localhost:8080/",
          "height": 51
        },
        "outputId": "a46e4476-0c84-4a41-d5b3-060bfae2a2f0"
      },
      "source": [
        "y_true"
      ],
      "execution_count": 46,
      "outputs": [
        {
          "output_type": "execute_result",
          "data": {
            "text/plain": [
              "array([241.89356318, 162.31047252, 212.74085556, ..., 128.47531878,\n",
              "       163.85246135, 113.64910268])"
            ]
          },
          "metadata": {
            "tags": []
          },
          "execution_count": 46
        }
      ]
    },
    {
      "cell_type": "code",
      "metadata": {
        "id": "-vkmEIy5Yr2D",
        "colab_type": "code",
        "colab": {}
      },
      "source": [
        "y_pred = line(X)"
      ],
      "execution_count": 0,
      "outputs": []
    },
    {
      "cell_type": "code",
      "metadata": {
        "id": "dvWau1aBYr2H",
        "colab_type": "code",
        "colab": {
          "base_uri": "https://localhost:8080/",
          "height": 136
        },
        "outputId": "d3539e54-e512-4dbe-a270-e79b6098c227"
      },
      "source": [
        "y_pred"
      ],
      "execution_count": 55,
      "outputs": [
        {
          "output_type": "execute_result",
          "data": {
            "text/plain": [
              "array([[0.],\n",
              "       [0.],\n",
              "       [0.],\n",
              "       ...,\n",
              "       [0.],\n",
              "       [0.],\n",
              "       [0.]])"
            ]
          },
          "metadata": {
            "tags": []
          },
          "execution_count": 55
        }
      ]
    },
    {
      "cell_type": "code",
      "metadata": {
        "id": "-LgAadgyYr2K",
        "colab_type": "code",
        "colab": {
          "base_uri": "https://localhost:8080/",
          "height": 34
        },
        "outputId": "148bed42-a1e5-458f-a9b8-0583000257ae"
      },
      "source": [
        "mean_squared_error(y_true, y_pred.ravel())"
      ],
      "execution_count": 56,
      "outputs": [
        {
          "output_type": "execute_result",
          "data": {
            "text/plain": [
              "27093.83757456157"
            ]
          },
          "metadata": {
            "tags": []
          },
          "execution_count": 56
        }
      ]
    },
    {
      "cell_type": "markdown",
      "metadata": {
        "id": "QLAYlrzDYr2M",
        "colab_type": "text"
      },
      "source": [
        "### you do it!\n",
        "\n",
        "Try changing the values of the parameters b and w in the line above and plot it again to see how the plot and the cost  change."
      ]
    },
    {
      "cell_type": "code",
      "metadata": {
        "id": "lARIZyBKYr2N",
        "colab_type": "code",
        "colab": {}
      },
      "source": [
        ""
      ],
      "execution_count": 0,
      "outputs": []
    },
    {
      "cell_type": "code",
      "metadata": {
        "id": "80i6xLt9Yr2P",
        "colab_type": "code",
        "colab": {
          "base_uri": "https://localhost:8080/",
          "height": 367
        },
        "outputId": "6b89d865-c1da-430d-cdee-e630bb781dd7"
      },
      "source": [
        "plt.figure(figsize=(10, 5))\n",
        "\n",
        "# we are going to draw 2 plots in the same figure\n",
        "# first plot, data and a few lines\n",
        "ax1 = plt.subplot(121)\n",
        "df.plot(kind='scatter',\n",
        "        x='Height',\n",
        "        y='Weight',\n",
        "        title='Weight and Height in adults', ax=ax1)\n",
        "\n",
        "# let's explore the cost function for a few values of b between -100 and +150\n",
        "bbs = np.array([-100, -50, 0, 50, 100, 150])\n",
        "mses = []  # we will append the values of the cost here, for each line\n",
        "for b in bbs:\n",
        "    y_pred = line(X, w=2, b=b)\n",
        "    mse = mean_squared_error(y_true, y_pred)\n",
        "    mses.append(mse)\n",
        "    plt.plot(X, y_pred)\n",
        "\n",
        "# second plot: Cost function\n",
        "ax2 = plt.subplot(122)\n",
        "plt.plot(bbs, mses, 'o-')\n",
        "plt.title('Cost as a function of b')\n",
        "plt.xlabel('b')"
      ],
      "execution_count": 57,
      "outputs": [
        {
          "output_type": "execute_result",
          "data": {
            "text/plain": [
              "Text(0.5, 0, 'b')"
            ]
          },
          "metadata": {
            "tags": []
          },
          "execution_count": 57
        },
        {
          "output_type": "display_data",
          "data": {
            "image/png": "[encoded data removed]",
            "text/plain": [
              "<Figure size 720x360 with 2 Axes>"
            ]
          },
          "metadata": {
            "tags": [],
            "needs_background": "light"
          }
        }
      ]
    },
    {
      "cell_type": "markdown",
      "metadata": {
        "id": "29TakLSiYr2R",
        "colab_type": "text"
      },
      "source": [
        "## Linear Regression with Keras"
      ]
    },
    {
      "cell_type": "code",
      "metadata": {
        "id": "R5EJDnUDYr2S",
        "colab_type": "code",
        "colab": {
          "base_uri": "https://localhost:8080/",
          "height": 34
        },
        "outputId": "03945564-be7e-4f00-d534-64e293888d7a"
      },
      "source": [
        "from keras.models import Sequential\n",
        "from keras.layers import Dense\n",
        "from keras.optimizers import Adam, SGD"
      ],
      "execution_count": 58,
      "outputs": [
        {
          "output_type": "stream",
          "text": [
            "Using TensorFlow backend.\n"
          ],
          "name": "stderr"
        }
      ]
    },
    {
      "cell_type": "code",
      "metadata": {
        "id": "-cMjKNtUYr2T",
        "colab_type": "code",
        "colab": {}
      },
      "source": [
        "model = Sequential()"
      ],
      "execution_count": 0,
      "outputs": []
    },
    {
      "cell_type": "code",
      "metadata": {
        "id": "6AGksr_0Yr2W",
        "colab_type": "code",
        "colab": {}
      },
      "source": [
        "model.add(Dense(1, input_shape=(1,)))"
      ],
      "execution_count": 0,
      "outputs": []
    },
    {
      "cell_type": "code",
      "metadata": {
        "id": "jrHOYSIzYr2Y",
        "colab_type": "code",
        "colab": {
          "base_uri": "https://localhost:8080/",
          "height": 187
        },
        "outputId": "c4101026-4037-4f22-9965-e92e67184ad2"
      },
      "source": [
        "model.summary()"
      ],
      "execution_count": 61,
      "outputs": [
        {
          "output_type": "stream",
          "text": [
            "Model: \"sequential_1\"\n",
            "_________________________________________________________________\n",
            "Layer (type)                 Output Shape              Param #   \n",
            "=================================================================\n",
            "dense_1 (Dense)              (None, 1)                 2         \n",
            "=================================================================\n",
            "Total params: 2\n",
            "Trainable params: 2\n",
            "Non-trainable params: 0\n",
            "_________________________________________________________________\n"
          ],
          "name": "stdout"
        }
      ]
    },
    {
      "cell_type": "code",
      "metadata": {
        "id": "fVKBkSBwYr2c",
        "colab_type": "code",
        "colab": {}
      },
      "source": [
        "model.compile(Adam(lr=0.8), 'mean_squared_error')"
      ],
      "execution_count": 0,
      "outputs": []
    },
    {
      "cell_type": "code",
      "metadata": {
        "id": "ySswEhE5Yr2e",
        "colab_type": "code",
        "colab": {
          "base_uri": "https://localhost:8080/",
          "height": 1000
        },
        "outputId": "ec0b542c-f248-4ea0-d06b-78ba840af900"
      },
      "source": [
        "model.fit(X, y_true, epochs=40)"
      ],
      "execution_count": 63,
      "outputs": [
        {
          "output_type": "stream",
          "text": [
            "Epoch 1/40\n",
            "10000/10000 [==============================] - 0s 48us/step - loss: 755.1777\n",
            "Epoch 2/40\n",
            "10000/10000 [==============================] - 0s 26us/step - loss: 541.0816\n",
            "Epoch 3/40\n",
            "10000/10000 [==============================] - 0s 24us/step - loss: 512.9881\n",
            "Epoch 4/40\n",
            "10000/10000 [==============================] - 0s 24us/step - loss: 440.1566\n",
            "Epoch 5/40\n",
            "10000/10000 [==============================] - 0s 26us/step - loss: 406.1992\n",
            "Epoch 6/40\n",
            "10000/10000 [==============================] - 0s 24us/step - loss: 379.3018\n",
            "Epoch 7/40\n",
            "10000/10000 [==============================] - 0s 25us/step - loss: 330.6054\n",
            "Epoch 8/40\n",
            "10000/10000 [==============================] - 0s 25us/step - loss: 291.5117\n",
            "Epoch 9/40\n",
            "10000/10000 [==============================] - 0s 24us/step - loss: 272.5233\n",
            "Epoch 10/40\n",
            "10000/10000 [==============================] - 0s 24us/step - loss: 255.6946\n",
            "Epoch 11/40\n",
            "10000/10000 [==============================] - 0s 27us/step - loss: 236.5826\n",
            "Epoch 12/40\n",
            "10000/10000 [==============================] - 0s 25us/step - loss: 241.6914\n",
            "Epoch 13/40\n",
            "10000/10000 [==============================] - 0s 25us/step - loss: 222.3008\n",
            "Epoch 14/40\n",
            "10000/10000 [==============================] - 0s 25us/step - loss: 203.5338\n",
            "Epoch 15/40\n",
            "10000/10000 [==============================] - 0s 25us/step - loss: 192.7505\n",
            "Epoch 16/40\n",
            "10000/10000 [==============================] - 0s 24us/step - loss: 203.6368\n",
            "Epoch 17/40\n",
            "10000/10000 [==============================] - 0s 24us/step - loss: 191.6499\n",
            "Epoch 18/40\n",
            "10000/10000 [==============================] - 0s 24us/step - loss: 182.6477\n",
            "Epoch 19/40\n",
            "10000/10000 [==============================] - 0s 25us/step - loss: 187.0717\n",
            "Epoch 20/40\n",
            "10000/10000 [==============================] - 0s 25us/step - loss: 168.9983\n",
            "Epoch 21/40\n",
            "10000/10000 [==============================] - 0s 25us/step - loss: 174.6704\n",
            "Epoch 22/40\n",
            "10000/10000 [==============================] - 0s 25us/step - loss: 187.6151\n",
            "Epoch 23/40\n",
            "10000/10000 [==============================] - 0s 24us/step - loss: 177.3042\n",
            "Epoch 24/40\n",
            "10000/10000 [==============================] - 0s 24us/step - loss: 193.2538\n",
            "Epoch 25/40\n",
            "10000/10000 [==============================] - 0s 25us/step - loss: 177.9292\n",
            "Epoch 26/40\n",
            "10000/10000 [==============================] - 0s 25us/step - loss: 177.7040\n",
            "Epoch 27/40\n",
            "10000/10000 [==============================] - 0s 27us/step - loss: 181.8985\n",
            "Epoch 28/40\n",
            "10000/10000 [==============================] - 0s 25us/step - loss: 175.6944\n",
            "Epoch 29/40\n",
            "10000/10000 [==============================] - 0s 25us/step - loss: 176.3195\n",
            "Epoch 30/40\n",
            "10000/10000 [==============================] - 0s 24us/step - loss: 186.5892\n",
            "Epoch 31/40\n",
            "10000/10000 [==============================] - 0s 25us/step - loss: 175.6667\n",
            "Epoch 32/40\n",
            "10000/10000 [==============================] - 0s 24us/step - loss: 185.4266\n",
            "Epoch 33/40\n",
            "10000/10000 [==============================] - 0s 24us/step - loss: 168.5907\n",
            "Epoch 34/40\n",
            "10000/10000 [==============================] - 0s 25us/step - loss: 177.5090\n",
            "Epoch 35/40\n",
            "10000/10000 [==============================] - 0s 25us/step - loss: 175.5967\n",
            "Epoch 36/40\n",
            "10000/10000 [==============================] - 0s 24us/step - loss: 168.8991\n",
            "Epoch 37/40\n",
            "10000/10000 [==============================] - 0s 24us/step - loss: 191.1236\n",
            "Epoch 38/40\n",
            "10000/10000 [==============================] - 0s 25us/step - loss: 168.9780\n",
            "Epoch 39/40\n",
            "10000/10000 [==============================] - 0s 24us/step - loss: 186.9968\n",
            "Epoch 40/40\n",
            "10000/10000 [==============================] - 0s 25us/step - loss: 197.9377\n"
          ],
          "name": "stdout"
        },
        {
          "output_type": "execute_result",
          "data": {
            "text/plain": [
              "<keras.callbacks.callbacks.History at 0x7ffa8998afd0>"
            ]
          },
          "metadata": {
            "tags": []
          },
          "execution_count": 63
        }
      ]
    },
    {
      "cell_type": "code",
      "metadata": {
        "id": "GavMCLFXYr2h",
        "colab_type": "code",
        "colab": {}
      },
      "source": [
        "y_pred = model.predict(X)"
      ],
      "execution_count": 0,
      "outputs": []
    },
    {
      "cell_type": "code",
      "metadata": {
        "id": "_-yE-hgOYr2j",
        "colab_type": "code",
        "colab": {
          "base_uri": "https://localhost:8080/",
          "height": 312
        },
        "outputId": "fab72013-7069-49f9-b375-70b48cb2f78a"
      },
      "source": [
        "df.plot(kind='scatter',\n",
        "        x='Height',\n",
        "        y='Weight',\n",
        "        title='Weight and Height in adults')\n",
        "plt.plot(X, y_pred, color='red')"
      ],
      "execution_count": 65,
      "outputs": [
        {
          "output_type": "execute_result",
          "data": {
            "text/plain": [
              "[<matplotlib.lines.Line2D at 0x7ffa83637cc0>]"
            ]
          },
          "metadata": {
            "tags": []
          },
          "execution_count": 65
        },
        {
          "output_type": "display_data",
          "data": {
            "image/png": "[encoded data removed]",
            "text/plain": [
              "<Figure size 432x288 with 1 Axes>"
            ]
          },
          "metadata": {
            "tags": [],
            "needs_background": "light"
          }
        }
      ]
    },
    {
      "cell_type": "code",
      "metadata": {
        "id": "_3BkOTIRYr2m",
        "colab_type": "code",
        "colab": {}
      },
      "source": [
        "W, B = model.get_weights()"
      ],
      "execution_count": 0,
      "outputs": []
    },
    {
      "cell_type": "code",
      "metadata": {
        "id": "NXD3UZRmYr2q",
        "colab_type": "code",
        "colab": {
          "base_uri": "https://localhost:8080/",
          "height": 34
        },
        "outputId": "99f31d5b-4cc2-4f4d-ca8a-928575612b10"
      },
      "source": [
        "W"
      ],
      "execution_count": 67,
      "outputs": [
        {
          "output_type": "execute_result",
          "data": {
            "text/plain": [
              "array([[7.597502]], dtype=float32)"
            ]
          },
          "metadata": {
            "tags": []
          },
          "execution_count": 67
        }
      ]
    },
    {
      "cell_type": "code",
      "metadata": {
        "id": "evJuTX8NYr2s",
        "colab_type": "code",
        "colab": {
          "base_uri": "https://localhost:8080/",
          "height": 34
        },
        "outputId": "dc87f190-652c-4cd5-e7e3-c229964aefaa"
      },
      "source": [
        "B"
      ],
      "execution_count": 68,
      "outputs": [
        {
          "output_type": "execute_result",
          "data": {
            "text/plain": [
              "array([-348.79144], dtype=float32)"
            ]
          },
          "metadata": {
            "tags": []
          },
          "execution_count": 68
        }
      ]
    },
    {
      "cell_type": "markdown",
      "metadata": {
        "id": "upQ8ZKhsYr2v",
        "colab_type": "text"
      },
      "source": [
        "## Evaluating Model Performance"
      ]
    },
    {
      "cell_type": "code",
      "metadata": {
        "id": "uVwv-N4PYr2w",
        "colab_type": "code",
        "colab": {}
      },
      "source": [
        "from sklearn.metrics import r2_score"
      ],
      "execution_count": 0,
      "outputs": []
    },
    {
      "cell_type": "code",
      "metadata": {
        "id": "8LO7GAQUYr2y",
        "colab_type": "code",
        "colab": {
          "base_uri": "https://localhost:8080/",
          "height": 34
        },
        "outputId": "59d2221e-1eaf-47a0-de40-c04a210fc188"
      },
      "source": [
        "print(\"The R2 score is {:0.3f}\".format(r2_score(y_true, y_pred)))"
      ],
      "execution_count": 70,
      "outputs": [
        {
          "output_type": "stream",
          "text": [
            "The R2 score is 0.820\n"
          ],
          "name": "stdout"
        }
      ]
    },
    {
      "cell_type": "markdown",
      "metadata": {
        "id": "TOKWDyhmYr21",
        "colab_type": "text"
      },
      "source": [
        "### Train Test Split"
      ]
    },
    {
      "cell_type": "code",
      "metadata": {
        "id": "OEgpyHN3Yr21",
        "colab_type": "code",
        "colab": {}
      },
      "source": [
        "from sklearn.model_selection import train_test_split"
      ],
      "execution_count": 0,
      "outputs": []
    },
    {
      "cell_type": "code",
      "metadata": {
        "id": "6An87EvAYr25",
        "colab_type": "code",
        "colab": {}
      },
      "source": [
        "X_train, X_test, y_train, y_test = train_test_split(X, y_true,\n",
        "                                                    test_size=0.2)"
      ],
      "execution_count": 0,
      "outputs": []
    },
    {
      "cell_type": "code",
      "metadata": {
        "id": "36KQhOqlYr27",
        "colab_type": "code",
        "colab": {
          "base_uri": "https://localhost:8080/",
          "height": 34
        },
        "outputId": "0b7e365f-adfb-4dea-c3d7-b1650c31f232"
      },
      "source": [
        "len(X_train)"
      ],
      "execution_count": 73,
      "outputs": [
        {
          "output_type": "execute_result",
          "data": {
            "text/plain": [
              "8000"
            ]
          },
          "metadata": {
            "tags": []
          },
          "execution_count": 73
        }
      ]
    },
    {
      "cell_type": "code",
      "metadata": {
        "id": "GEFPn8CPYr29",
        "colab_type": "code",
        "colab": {
          "base_uri": "https://localhost:8080/",
          "height": 34
        },
        "outputId": "10b9ebac-5ef7-4bda-9245-625305359ac6"
      },
      "source": [
        "len(X_test)"
      ],
      "execution_count": 74,
      "outputs": [
        {
          "output_type": "execute_result",
          "data": {
            "text/plain": [
              "2000"
            ]
          },
          "metadata": {
            "tags": []
          },
          "execution_count": 74
        }
      ]
    },
    {
      "cell_type": "code",
      "metadata": {
        "id": "IzRR58WlYr2-",
        "colab_type": "code",
        "colab": {}
      },
      "source": [
        "W[0, 0] = 0.0\n",
        "B[0] = 0.0\n",
        "model.set_weights((W, B))"
      ],
      "execution_count": 0,
      "outputs": []
    },
    {
      "cell_type": "code",
      "metadata": {
        "id": "fK7ZJOWyYr3A",
        "colab_type": "code",
        "colab": {
          "base_uri": "https://localhost:8080/",
          "height": 34
        },
        "outputId": "1c17c0d6-5f4a-41cf-caff-0289337c5beb"
      },
      "source": [
        "model.fit(X_train, y_train, epochs=50, verbose=0)"
      ],
      "execution_count": 76,
      "outputs": [
        {
          "output_type": "execute_result",
          "data": {
            "text/plain": [
              "<keras.callbacks.callbacks.History at 0x7ffa7ad5ada0>"
            ]
          },
          "metadata": {
            "tags": []
          },
          "execution_count": 76
        }
      ]
    },
    {
      "cell_type": "code",
      "metadata": {
        "id": "Fmadd3PTYr3G",
        "colab_type": "code",
        "colab": {}
      },
      "source": [
        "y_train_pred = model.predict(X_train).ravel()\n",
        "y_test_pred = model.predict(X_test).ravel()"
      ],
      "execution_count": 0,
      "outputs": []
    },
    {
      "cell_type": "code",
      "metadata": {
        "id": "YYWPvMKKYr3L",
        "colab_type": "code",
        "colab": {}
      },
      "source": [
        "from sklearn.metrics import mean_squared_error as mse"
      ],
      "execution_count": 0,
      "outputs": []
    },
    {
      "cell_type": "code",
      "metadata": {
        "id": "zcfuxL7TYr3P",
        "colab_type": "code",
        "colab": {
          "base_uri": "https://localhost:8080/",
          "height": 51
        },
        "outputId": "93ff340e-de25-4280-ffe0-b94a2b912215"
      },
      "source": [
        "print(\"The Mean Squared Error on the Train set is:\\t{:0.1f}\".format(mse(y_train, y_train_pred)))\n",
        "print(\"The Mean Squared Error on the Test set is:\\t{:0.1f}\".format(mse(y_test, y_test_pred)))"
      ],
      "execution_count": 79,
      "outputs": [
        {
          "output_type": "stream",
          "text": [
            "The Mean Squared Error on the Train set is:\t196.0\n",
            "The Mean Squared Error on the Test set is:\t189.3\n"
          ],
          "name": "stdout"
        }
      ]
    },
    {
      "cell_type": "code",
      "metadata": {
        "id": "GhZT0OuaYr3V",
        "colab_type": "code",
        "colab": {
          "base_uri": "https://localhost:8080/",
          "height": 51
        },
        "outputId": "5044d50a-cfc4-4811-cc74-03c13c5b5646"
      },
      "source": [
        "print(\"The R2 score on the Train set is:\\t{:0.3f}\".format(r2_score(y_train, y_train_pred)))\n",
        "print(\"The R2 score on the Test set is:\\t{:0.3f}\".format(r2_score(y_test, y_test_pred)))"
      ],
      "execution_count": 80,
      "outputs": [
        {
          "output_type": "stream",
          "text": [
            "The R2 score on the Train set is:\t0.809\n",
            "The R2 score on the Test set is:\t0.821\n"
          ],
          "name": "stdout"
        }
      ]
    },
    {
      "cell_type": "markdown",
      "metadata": {
        "id": "AY4WnVe6Yr3W",
        "colab_type": "text"
      },
      "source": [
        "# Classification"
      ]
    },
    {
      "cell_type": "code",
      "metadata": {
        "id": "4f15gUxCYr3X",
        "colab_type": "code",
        "colab": {}
      },
      "source": [
        "df = pd.read_csv('zero_to_deep_learning_video/data/user_visit_duration.csv')"
      ],
      "execution_count": 0,
      "outputs": []
    },
    {
      "cell_type": "code",
      "metadata": {
        "id": "IerboRyYYr3a",
        "colab_type": "code",
        "colab": {
          "base_uri": "https://localhost:8080/",
          "height": 204
        },
        "outputId": "ffbdd4d7-82fc-4dd2-cc0d-6426207e96eb"
      },
      "source": [
        "df.head()"
      ],
      "execution_count": 84,
      "outputs": [
        {
          "output_type": "execute_result",
          "data": {
            "text/html": [
              "<div>\n",
              "<style scoped>\n",
              "    .dataframe tbody tr th:only-of-type {\n",
              "        vertical-align: middle;\n",
              "    }\n",
              "\n",
              "    .dataframe tbody tr th {\n",
              "        vertical-align: top;\n",
              "    }\n",
              "\n",
              "    .dataframe thead th {\n",
              "        text-align: right;\n",
              "    }\n",
              "</style>\n",
              "<table border=\"1\" class=\"dataframe\">\n",
              "  <thead>\n",
              "    <tr style=\"text-align: right;\">\n",
              "      <th></th>\n",
              "      <th>Time (min)</th>\n",
              "      <th>Buy</th>\n",
              "    </tr>\n",
              "  </thead>\n",
              "  <tbody>\n",
              "    <tr>\n",
              "      <th>0</th>\n",
              "      <td>2.000000</td>\n",
              "      <td>0</td>\n",
              "    </tr>\n",
              "    <tr>\n",
              "      <th>1</th>\n",
              "      <td>0.683333</td>\n",
              "      <td>0</td>\n",
              "    </tr>\n",
              "    <tr>\n",
              "      <th>2</th>\n",
              "      <td>3.216667</td>\n",
              "      <td>1</td>\n",
              "    </tr>\n",
              "    <tr>\n",
              "      <th>3</th>\n",
              "      <td>0.900000</td>\n",
              "      <td>0</td>\n",
              "    </tr>\n",
              "    <tr>\n",
              "      <th>4</th>\n",
              "      <td>1.533333</td>\n",
              "      <td>1</td>\n",
              "    </tr>\n",
              "  </tbody>\n",
              "</table>\n",
              "</div>"
            ],
            "text/plain": [
              "   Time (min)  Buy\n",
              "0    2.000000    0\n",
              "1    0.683333    0\n",
              "2    3.216667    1\n",
              "3    0.900000    0\n",
              "4    1.533333    1"
            ]
          },
          "metadata": {
            "tags": []
          },
          "execution_count": 84
        }
      ]
    },
    {
      "cell_type": "code",
      "metadata": {
        "id": "GWEKCjroYr3b",
        "colab_type": "code",
        "colab": {
          "base_uri": "https://localhost:8080/",
          "height": 296
        },
        "outputId": "424288b2-f78d-4304-dbb0-e90247fec492"
      },
      "source": [
        "df.plot(kind='scatter', x='Time (min)', y='Buy')"
      ],
      "execution_count": 85,
      "outputs": [
        {
          "output_type": "execute_result",
          "data": {
            "text/plain": [
              "<matplotlib.axes._subplots.AxesSubplot at 0x7ffa7aa987f0>"
            ]
          },
          "metadata": {
            "tags": []
          },
          "execution_count": 85
        },
        {
          "output_type": "display_data",
          "data": {
            "image/png": "[encoded data removed]",
            "text/plain": [
              "<Figure size 432x288 with 1 Axes>"
            ]
          },
          "metadata": {
            "tags": [],
            "needs_background": "light"
          }
        }
      ]
    },
    {
      "cell_type": "code",
      "metadata": {
        "id": "Kng47tPAYr3d",
        "colab_type": "code",
        "colab": {}
      },
      "source": [
        "model = Sequential()\n",
        "model.add(Dense(1, input_shape=(1,), activation='sigmoid'))"
      ],
      "execution_count": 0,
      "outputs": []
    },
    {
      "cell_type": "code",
      "metadata": {
        "id": "IAVTfZgPYr3f",
        "colab_type": "code",
        "colab": {}
      },
      "source": [
        "model.compile(SGD(lr=0.5), 'binary_crossentropy', metrics=['accuracy'])"
      ],
      "execution_count": 0,
      "outputs": []
    },
    {
      "cell_type": "code",
      "metadata": {
        "id": "m4t5pSa6Yr3i",
        "colab_type": "code",
        "colab": {
          "base_uri": "https://localhost:8080/",
          "height": 187
        },
        "outputId": "77d62c61-8bd5-499b-ced6-bda37acbd83b"
      },
      "source": [
        "model.summary()"
      ],
      "execution_count": 88,
      "outputs": [
        {
          "output_type": "stream",
          "text": [
            "Model: \"sequential_2\"\n",
            "_________________________________________________________________\n",
            "Layer (type)                 Output Shape              Param #   \n",
            "=================================================================\n",
            "dense_2 (Dense)              (None, 1)                 2         \n",
            "=================================================================\n",
            "Total params: 2\n",
            "Trainable params: 2\n",
            "Non-trainable params: 0\n",
            "_________________________________________________________________\n"
          ],
          "name": "stdout"
        }
      ]
    },
    {
      "cell_type": "code",
      "metadata": {
        "id": "i8wJ1vr6Yr3n",
        "colab_type": "code",
        "colab": {
          "base_uri": "https://localhost:8080/",
          "height": 884
        },
        "outputId": "007b94c6-ff39-4f0f-ea1d-9892f482595a"
      },
      "source": [
        "X = df[['Time (min)']].values\n",
        "y = df['Buy'].values\n",
        "\n",
        "model.fit(X, y, epochs=25)"
      ],
      "execution_count": 89,
      "outputs": [
        {
          "output_type": "stream",
          "text": [
            "Epoch 1/25\n",
            "100/100 [==============================] - 0s 868us/step - loss: 0.7274 - accuracy: 0.5000\n",
            "Epoch 2/25\n",
            "100/100 [==============================] - 0s 122us/step - loss: 0.6300 - accuracy: 0.5500\n",
            "Epoch 3/25\n",
            "100/100 [==============================] - 0s 64us/step - loss: 0.5906 - accuracy: 0.6300\n",
            "Epoch 4/25\n",
            "100/100 [==============================] - 0s 81us/step - loss: 0.5695 - accuracy: 0.6500\n",
            "Epoch 5/25\n",
            "100/100 [==============================] - 0s 99us/step - loss: 0.5755 - accuracy: 0.6600\n",
            "Epoch 6/25\n",
            "100/100 [==============================] - 0s 63us/step - loss: 0.5466 - accuracy: 0.7200\n",
            "Epoch 7/25\n",
            "100/100 [==============================] - 0s 71us/step - loss: 0.4995 - accuracy: 0.7800\n",
            "Epoch 8/25\n",
            "100/100 [==============================] - 0s 63us/step - loss: 0.4957 - accuracy: 0.7500\n",
            "Epoch 9/25\n",
            "100/100 [==============================] - 0s 58us/step - loss: 0.4937 - accuracy: 0.8000\n",
            "Epoch 10/25\n",
            "100/100 [==============================] - 0s 87us/step - loss: 0.4640 - accuracy: 0.8300\n",
            "Epoch 11/25\n",
            "100/100 [==============================] - 0s 79us/step - loss: 0.4692 - accuracy: 0.7900\n",
            "Epoch 12/25\n",
            "100/100 [==============================] - 0s 127us/step - loss: 0.4481 - accuracy: 0.8400\n",
            "Epoch 13/25\n",
            "100/100 [==============================] - 0s 72us/step - loss: 0.4583 - accuracy: 0.7900\n",
            "Epoch 14/25\n",
            "100/100 [==============================] - 0s 64us/step - loss: 0.4370 - accuracy: 0.8000\n",
            "Epoch 15/25\n",
            "100/100 [==============================] - 0s 64us/step - loss: 0.4386 - accuracy: 0.8100\n",
            "Epoch 16/25\n",
            "100/100 [==============================] - 0s 62us/step - loss: 0.4383 - accuracy: 0.8200\n",
            "Epoch 17/25\n",
            "100/100 [==============================] - 0s 66us/step - loss: 0.4245 - accuracy: 0.8000\n",
            "Epoch 18/25\n",
            "100/100 [==============================] - 0s 62us/step - loss: 0.4187 - accuracy: 0.8200\n",
            "Epoch 19/25\n",
            "100/100 [==============================] - 0s 79us/step - loss: 0.4207 - accuracy: 0.8200\n",
            "Epoch 20/25\n",
            "100/100 [==============================] - 0s 76us/step - loss: 0.4229 - accuracy: 0.8200\n",
            "Epoch 21/25\n",
            "100/100 [==============================] - 0s 101us/step - loss: 0.4199 - accuracy: 0.8100\n",
            "Epoch 22/25\n",
            "100/100 [==============================] - 0s 68us/step - loss: 0.4055 - accuracy: 0.8200\n",
            "Epoch 23/25\n",
            "100/100 [==============================] - 0s 58us/step - loss: 0.4009 - accuracy: 0.8300\n",
            "Epoch 24/25\n",
            "100/100 [==============================] - 0s 66us/step - loss: 0.4094 - accuracy: 0.8300\n",
            "Epoch 25/25\n",
            "100/100 [==============================] - 0s 67us/step - loss: 0.4074 - accuracy: 0.8200\n"
          ],
          "name": "stdout"
        },
        {
          "output_type": "execute_result",
          "data": {
            "text/plain": [
              "<keras.callbacks.callbacks.History at 0x7ffa7a9c7828>"
            ]
          },
          "metadata": {
            "tags": []
          },
          "execution_count": 89
        }
      ]
    },
    {
      "cell_type": "code",
      "metadata": {
        "id": "57JhYcJaYr3q",
        "colab_type": "code",
        "colab": {
          "base_uri": "https://localhost:8080/",
          "height": 312
        },
        "outputId": "5fae187d-590d-47c6-8902-fe9b9c335d39"
      },
      "source": [
        "ax = df.plot(kind='scatter', x='Time (min)', y='Buy',\n",
        "             title='Purchase behavior VS time spent on site')\n",
        "\n",
        "temp = np.linspace(0, 4)\n",
        "ax.plot(temp, model.predict(temp), color='orange')\n",
        "plt.legend(['model', 'data'])"
      ],
      "execution_count": 90,
      "outputs": [
        {
          "output_type": "execute_result",
          "data": {
            "text/plain": [
              "<matplotlib.legend.Legend at 0x7ffa7a8f6160>"
            ]
          },
          "metadata": {
            "tags": []
          },
          "execution_count": 90
        },
        {
          "output_type": "display_data",
          "data": {
            "image/png": "[encoded data removed]",
            "text/plain": [
              "<Figure size 432x288 with 1 Axes>"
            ]
          },
          "metadata": {
            "tags": [],
            "needs_background": "light"
          }
        }
      ]
    },
    {
      "cell_type": "code",
      "metadata": {
        "id": "O5iS-kFHYr3s",
        "colab_type": "code",
        "colab": {}
      },
      "source": [
        "temp_class = model.predict(temp) > 0.5"
      ],
      "execution_count": 0,
      "outputs": []
    },
    {
      "cell_type": "code",
      "metadata": {
        "id": "GRNCeJSzYr3v",
        "colab_type": "code",
        "colab": {
          "base_uri": "https://localhost:8080/",
          "height": 312
        },
        "outputId": "15a59ca0-05e5-45ab-e8bb-37a0956d1cc8"
      },
      "source": [
        "ax = df.plot(kind='scatter', x='Time (min)', y='Buy',\n",
        "             title='Purchase behavior VS time spent on site')\n",
        "\n",
        "temp = np.linspace(0, 4)\n",
        "ax.plot(temp, temp_class, color='orange')\n",
        "plt.legend(['model', 'data'])"
      ],
      "execution_count": 92,
      "outputs": [
        {
          "output_type": "execute_result",
          "data": {
            "text/plain": [
              "<matplotlib.legend.Legend at 0x7ffa7a91c860>"
            ]
          },
          "metadata": {
            "tags": []
          },
          "execution_count": 92
        },
        {
          "output_type": "display_data",
          "data": {
            "image/png": "[encoded data removed]",
            "text/plain": [
              "<Figure size 432x288 with 1 Axes>"
            ]
          },
          "metadata": {
            "tags": [],
            "needs_background": "light"
          }
        }
      ]
    },
    {
      "cell_type": "code",
      "metadata": {
        "id": "6lOrgh16Yr3z",
        "colab_type": "code",
        "colab": {}
      },
      "source": [
        "y_pred = model.predict(X)\n",
        "y_class_pred = y_pred > 0.5"
      ],
      "execution_count": 0,
      "outputs": []
    },
    {
      "cell_type": "code",
      "metadata": {
        "id": "ZiCAcQeVYr31",
        "colab_type": "code",
        "colab": {}
      },
      "source": [
        "from sklearn.metrics import accuracy_score"
      ],
      "execution_count": 0,
      "outputs": []
    },
    {
      "cell_type": "code",
      "metadata": {
        "id": "DQmvAOFzYr36",
        "colab_type": "code",
        "colab": {
          "base_uri": "https://localhost:8080/",
          "height": 34
        },
        "outputId": "6e9b3dcb-f3fd-4a51-bd6b-2a4db7f7e295"
      },
      "source": [
        "print(\"The accuracy score is {:0.3f}\".format(accuracy_score(y, y_class_pred)))"
      ],
      "execution_count": 95,
      "outputs": [
        {
          "output_type": "stream",
          "text": [
            "The accuracy score is 0.810\n"
          ],
          "name": "stdout"
        }
      ]
    },
    {
      "cell_type": "markdown",
      "metadata": {
        "id": "RyfKpHa7Yr3_",
        "colab_type": "text"
      },
      "source": [
        "### Train/Test split\n"
      ]
    },
    {
      "cell_type": "code",
      "metadata": {
        "id": "d7t8yx2cYr4A",
        "colab_type": "code",
        "colab": {}
      },
      "source": [
        "X_train, X_test, y_train, y_test = train_test_split(X, y, test_size=0.2)"
      ],
      "execution_count": 0,
      "outputs": []
    },
    {
      "cell_type": "code",
      "metadata": {
        "id": "llPcaJeXYr4B",
        "colab_type": "code",
        "colab": {}
      },
      "source": [
        "params = model.get_weights()\n",
        "params = [np.zeros(w.shape) for w in params]\n",
        "model.set_weights(params)"
      ],
      "execution_count": 0,
      "outputs": []
    },
    {
      "cell_type": "code",
      "metadata": {
        "id": "cqbtFD9yYr4D",
        "colab_type": "code",
        "colab": {
          "base_uri": "https://localhost:8080/",
          "height": 34
        },
        "outputId": "86ee425b-eaea-47f2-91fb-31ebf5c8def9"
      },
      "source": [
        "print(\"The accuracy score is {:0.3f}\".format(accuracy_score(y, model.predict(X) > 0.5)))"
      ],
      "execution_count": 98,
      "outputs": [
        {
          "output_type": "stream",
          "text": [
            "The accuracy score is 0.500\n"
          ],
          "name": "stdout"
        }
      ]
    },
    {
      "cell_type": "code",
      "metadata": {
        "id": "MIPhWyQuYr4F",
        "colab_type": "code",
        "colab": {
          "base_uri": "https://localhost:8080/",
          "height": 34
        },
        "outputId": "57de43d3-8f38-45f6-b4d8-53d818eb03f1"
      },
      "source": [
        "model.fit(X_train, y_train, epochs=25, verbose=0)"
      ],
      "execution_count": 99,
      "outputs": [
        {
          "output_type": "execute_result",
          "data": {
            "text/plain": [
              "<keras.callbacks.callbacks.History at 0x7ffa7a9feac8>"
            ]
          },
          "metadata": {
            "tags": []
          },
          "execution_count": 99
        }
      ]
    },
    {
      "cell_type": "code",
      "metadata": {
        "id": "VlpN7Ks_Yr4G",
        "colab_type": "code",
        "colab": {
          "base_uri": "https://localhost:8080/",
          "height": 51
        },
        "outputId": "257ee184-f655-49af-c530-4d3be1098fa8"
      },
      "source": [
        "print(\"The train accuracy score is {:0.3f}\".format(accuracy_score(y_train, model.predict(X_train) > 0.5)))\n",
        "print(\"The test accuracy score is {:0.3f}\".format(accuracy_score(y_test, model.predict(X_test) > 0.5)))"
      ],
      "execution_count": 100,
      "outputs": [
        {
          "output_type": "stream",
          "text": [
            "The train accuracy score is 0.838\n",
            "The test accuracy score is 0.800\n"
          ],
          "name": "stdout"
        }
      ]
    },
    {
      "cell_type": "markdown",
      "metadata": {
        "id": "UOB4qycUYr4H",
        "colab_type": "text"
      },
      "source": [
        "## Cross Validation"
      ]
    },
    {
      "cell_type": "code",
      "metadata": {
        "id": "0y5D7f0OYr4I",
        "colab_type": "code",
        "colab": {}
      },
      "source": [
        "from keras.wrappers.scikit_learn import KerasClassifier"
      ],
      "execution_count": 0,
      "outputs": []
    },
    {
      "cell_type": "code",
      "metadata": {
        "id": "AUoCiJzlYr4J",
        "colab_type": "code",
        "colab": {}
      },
      "source": [
        "def build_logistic_regression_model():\n",
        "    model = Sequential()\n",
        "    model.add(Dense(1, input_shape=(1,), activation='sigmoid'))\n",
        "    model.compile(SGD(lr=0.5),\n",
        "                  'binary_crossentropy',\n",
        "                  metrics=['accuracy'])\n",
        "    return model"
      ],
      "execution_count": 0,
      "outputs": []
    },
    {
      "cell_type": "code",
      "metadata": {
        "id": "ChU6zn0WYr4L",
        "colab_type": "code",
        "colab": {}
      },
      "source": [
        "model = KerasClassifier(build_fn=build_logistic_regression_model,\n",
        "                        epochs=25,\n",
        "                        verbose=0)"
      ],
      "execution_count": 0,
      "outputs": []
    },
    {
      "cell_type": "code",
      "metadata": {
        "id": "5LUzxu_EYr4N",
        "colab_type": "code",
        "colab": {}
      },
      "source": [
        "from sklearn.model_selection import cross_val_score, KFold"
      ],
      "execution_count": 0,
      "outputs": []
    },
    {
      "cell_type": "code",
      "metadata": {
        "id": "bBUo9U3dYr4P",
        "colab_type": "code",
        "colab": {}
      },
      "source": [
        "cv = KFold(3, shuffle=True)"
      ],
      "execution_count": 0,
      "outputs": []
    },
    {
      "cell_type": "code",
      "metadata": {
        "id": "osRiq1xsYr4R",
        "colab_type": "code",
        "colab": {}
      },
      "source": [
        "scores = cross_val_score(model, X, y, cv=cv)"
      ],
      "execution_count": 0,
      "outputs": []
    },
    {
      "cell_type": "code",
      "metadata": {
        "id": "tqWqUqj9Yr4T",
        "colab_type": "code",
        "colab": {
          "base_uri": "https://localhost:8080/",
          "height": 34
        },
        "outputId": "6df648ae-58eb-4107-fc4e-f1b75e1cbe46"
      },
      "source": [
        "scores"
      ],
      "execution_count": 107,
      "outputs": [
        {
          "output_type": "execute_result",
          "data": {
            "text/plain": [
              "array([0.7647059 , 0.81818181, 0.87878788])"
            ]
          },
          "metadata": {
            "tags": []
          },
          "execution_count": 107
        }
      ]
    },
    {
      "cell_type": "code",
      "metadata": {
        "id": "fuDvdDXIYr4U",
        "colab_type": "code",
        "colab": {
          "base_uri": "https://localhost:8080/",
          "height": 34
        },
        "outputId": "b525c351-9af5-4753-9cef-f76d8f1b67ec"
      },
      "source": [
        "print(\"The cross validation accuracy is {:0.4f} ± {:0.4f}\".format(scores.mean(), scores.std()))"
      ],
      "execution_count": 108,
      "outputs": [
        {
          "output_type": "stream",
          "text": [
            "The cross validation accuracy is 0.8206 ± 0.0466\n"
          ],
          "name": "stdout"
        }
      ]
    },
    {
      "cell_type": "markdown",
      "metadata": {
        "id": "pNJkSDa_Yr4W",
        "colab_type": "text"
      },
      "source": [
        "## Confusion Matrix"
      ]
    },
    {
      "cell_type": "code",
      "metadata": {
        "id": "Ol3bjbQYYr4W",
        "colab_type": "code",
        "colab": {}
      },
      "source": [
        "from sklearn.metrics import confusion_matrix"
      ],
      "execution_count": 0,
      "outputs": []
    },
    {
      "cell_type": "code",
      "metadata": {
        "scrolled": false,
        "id": "yB-kUfHmYr4Y",
        "colab_type": "code",
        "colab": {
          "base_uri": "https://localhost:8080/",
          "height": 51
        },
        "outputId": "2a0614e4-c9e1-48d7-ad04-f5299ec11f09"
      },
      "source": [
        "confusion_matrix(y, y_class_pred)"
      ],
      "execution_count": 111,
      "outputs": [
        {
          "output_type": "execute_result",
          "data": {
            "text/plain": [
              "array([[38, 12],\n",
              "       [ 7, 43]])"
            ]
          },
          "metadata": {
            "tags": []
          },
          "execution_count": 111
        }
      ]
    },
    {
      "cell_type": "code",
      "metadata": {
        "id": "QftK0HpUYr4Z",
        "colab_type": "code",
        "colab": {}
      },
      "source": [
        "def pretty_confusion_matrix(y_true, y_pred, labels=[\"False\", \"True\"]):\n",
        "    cm = confusion_matrix(y_true, y_pred)\n",
        "    pred_labels = ['Predicted '+ l for l in labels]\n",
        "    df = pd.DataFrame(cm, index=labels, columns=pred_labels)\n",
        "    return df"
      ],
      "execution_count": 0,
      "outputs": []
    },
    {
      "cell_type": "code",
      "metadata": {
        "id": "ajhehzEVYr4a",
        "colab_type": "code",
        "colab": {
          "base_uri": "https://localhost:8080/",
          "height": 111
        },
        "outputId": "00ceadd4-060d-4c44-8b0a-4edb256d1c59"
      },
      "source": [
        "pretty_confusion_matrix(y, y_class_pred, ['Not Buy', 'Buy'])"
      ],
      "execution_count": 113,
      "outputs": [
        {
          "output_type": "execute_result",
          "data": {
            "text/html": [
              "<div>\n",
              "<style scoped>\n",
              "    .dataframe tbody tr th:only-of-type {\n",
              "        vertical-align: middle;\n",
              "    }\n",
              "\n",
              "    .dataframe tbody tr th {\n",
              "        vertical-align: top;\n",
              "    }\n",
              "\n",
              "    .dataframe thead th {\n",
              "        text-align: right;\n",
              "    }\n",
              "</style>\n",
              "<table border=\"1\" class=\"dataframe\">\n",
              "  <thead>\n",
              "    <tr style=\"text-align: right;\">\n",
              "      <th></th>\n",
              "      <th>Predicted Not Buy</th>\n",
              "      <th>Predicted Buy</th>\n",
              "    </tr>\n",
              "  </thead>\n",
              "  <tbody>\n",
              "    <tr>\n",
              "      <th>Not Buy</th>\n",
              "      <td>38</td>\n",
              "      <td>12</td>\n",
              "    </tr>\n",
              "    <tr>\n",
              "      <th>Buy</th>\n",
              "      <td>7</td>\n",
              "      <td>43</td>\n",
              "    </tr>\n",
              "  </tbody>\n",
              "</table>\n",
              "</div>"
            ],
            "text/plain": [
              "         Predicted Not Buy  Predicted Buy\n",
              "Not Buy                 38             12\n",
              "Buy                      7             43"
            ]
          },
          "metadata": {
            "tags": []
          },
          "execution_count": 113
        }
      ]
    },
    {
      "cell_type": "code",
      "metadata": {
        "id": "tNZAyslyYr4c",
        "colab_type": "code",
        "colab": {}
      },
      "source": [
        "from sklearn.metrics import precision_score, recall_score, f1_score"
      ],
      "execution_count": 0,
      "outputs": []
    },
    {
      "cell_type": "code",
      "metadata": {
        "id": "mKZOGhe8Yr4d",
        "colab_type": "code",
        "colab": {
          "base_uri": "https://localhost:8080/",
          "height": 68
        },
        "outputId": "34b29fd2-cf85-46ca-e981-74074b078a49"
      },
      "source": [
        "print(\"Precision:\\t{:0.3f}\".format(precision_score(y, y_class_pred)))\n",
        "print(\"Recall:  \\t{:0.3f}\".format(recall_score(y, y_class_pred)))\n",
        "print(\"F1 Score:\\t{:0.3f}\".format(f1_score(y, y_class_pred)))"
      ],
      "execution_count": 115,
      "outputs": [
        {
          "output_type": "stream",
          "text": [
            "Precision:\t0.782\n",
            "Recall:  \t0.860\n",
            "F1 Score:\t0.819\n"
          ],
          "name": "stdout"
        }
      ]
    },
    {
      "cell_type": "code",
      "metadata": {
        "id": "SQdZf2VLYr4f",
        "colab_type": "code",
        "colab": {}
      },
      "source": [
        "from sklearn.metrics import classification_report"
      ],
      "execution_count": 0,
      "outputs": []
    },
    {
      "cell_type": "code",
      "metadata": {
        "id": "baNiqcnlYr4j",
        "colab_type": "code",
        "colab": {
          "base_uri": "https://localhost:8080/",
          "height": 170
        },
        "outputId": "6f461d69-a2bf-4b14-f3e0-21d7e4ea6268"
      },
      "source": [
        "print(classification_report(y, y_class_pred))"
      ],
      "execution_count": 117,
      "outputs": [
        {
          "output_type": "stream",
          "text": [
            "              precision    recall  f1-score   support\n",
            "\n",
            "           0       0.84      0.76      0.80        50\n",
            "           1       0.78      0.86      0.82        50\n",
            "\n",
            "    accuracy                           0.81       100\n",
            "   macro avg       0.81      0.81      0.81       100\n",
            "weighted avg       0.81      0.81      0.81       100\n",
            "\n"
          ],
          "name": "stdout"
        }
      ]
    },
    {
      "cell_type": "markdown",
      "metadata": {
        "id": "2ny7gCCkYr4o",
        "colab_type": "text"
      },
      "source": [
        "## Feature Preprocessing"
      ]
    },
    {
      "cell_type": "markdown",
      "metadata": {
        "id": "onOFHNhrYr4o",
        "colab_type": "text"
      },
      "source": [
        "### Categorical Features"
      ]
    },
    {
      "cell_type": "code",
      "metadata": {
        "id": "2KF9bit-Yr4o",
        "colab_type": "code",
        "colab": {
          "base_uri": "https://localhost:8080/",
          "height": 204
        },
        "outputId": "f2205908-5bcb-442e-f16e-164760a8c161"
      },
      "source": [
        "df = pd.read_csv('zero_to_deep_learning_video/data/weight-height.csv')\n",
        "df.head()"
      ],
      "execution_count": 118,
      "outputs": [
        {
          "output_type": "execute_result",
          "data": {
            "text/html": [
              "<div>\n",
              "<style scoped>\n",
              "    .dataframe tbody tr th:only-of-type {\n",
              "        vertical-align: middle;\n",
              "    }\n",
              "\n",
              "    .dataframe tbody tr th {\n",
              "        vertical-align: top;\n",
              "    }\n",
              "\n",
              "    .dataframe thead th {\n",
              "        text-align: right;\n",
              "    }\n",
              "</style>\n",
              "<table border=\"1\" class=\"dataframe\">\n",
              "  <thead>\n",
              "    <tr style=\"text-align: right;\">\n",
              "      <th></th>\n",
              "      <th>Gender</th>\n",
              "      <th>Height</th>\n",
              "      <th>Weight</th>\n",
              "    </tr>\n",
              "  </thead>\n",
              "  <tbody>\n",
              "    <tr>\n",
              "      <th>0</th>\n",
              "      <td>Male</td>\n",
              "      <td>73.847017</td>\n",
              "      <td>241.893563</td>\n",
              "    </tr>\n",
              "    <tr>\n",
              "      <th>1</th>\n",
              "      <td>Male</td>\n",
              "      <td>68.781904</td>\n",
              "      <td>162.310473</td>\n",
              "    </tr>\n",
              "    <tr>\n",
              "      <th>2</th>\n",
              "      <td>Male</td>\n",
              "      <td>74.110105</td>\n",
              "      <td>212.740856</td>\n",
              "    </tr>\n",
              "    <tr>\n",
              "      <th>3</th>\n",
              "      <td>Male</td>\n",
              "      <td>71.730978</td>\n",
              "      <td>220.042470</td>\n",
              "    </tr>\n",
              "    <tr>\n",
              "      <th>4</th>\n",
              "      <td>Male</td>\n",
              "      <td>69.881796</td>\n",
              "      <td>206.349801</td>\n",
              "    </tr>\n",
              "  </tbody>\n",
              "</table>\n",
              "</div>"
            ],
            "text/plain": [
              "  Gender     Height      Weight\n",
              "0   Male  73.847017  241.893563\n",
              "1   Male  68.781904  162.310473\n",
              "2   Male  74.110105  212.740856\n",
              "3   Male  71.730978  220.042470\n",
              "4   Male  69.881796  206.349801"
            ]
          },
          "metadata": {
            "tags": []
          },
          "execution_count": 118
        }
      ]
    },
    {
      "cell_type": "code",
      "metadata": {
        "id": "SgH91cDSYr4q",
        "colab_type": "code",
        "colab": {
          "base_uri": "https://localhost:8080/",
          "height": 34
        },
        "outputId": "60601d7e-7a1c-4195-a0db-7daf9ca668fc"
      },
      "source": [
        "df['Gender'].unique()"
      ],
      "execution_count": 119,
      "outputs": [
        {
          "output_type": "execute_result",
          "data": {
            "text/plain": [
              "array(['Male', 'Female'], dtype=object)"
            ]
          },
          "metadata": {
            "tags": []
          },
          "execution_count": 119
        }
      ]
    },
    {
      "cell_type": "code",
      "metadata": {
        "id": "iQK2_Y6qYr4t",
        "colab_type": "code",
        "colab": {
          "base_uri": "https://localhost:8080/",
          "height": 204
        },
        "outputId": "33a6ef91-86df-474b-b254-39ec085daa81"
      },
      "source": [
        "pd.get_dummies(df['Gender'], prefix='Gender').head()"
      ],
      "execution_count": 120,
      "outputs": [
        {
          "output_type": "execute_result",
          "data": {
            "text/html": [
              "<div>\n",
              "<style scoped>\n",
              "    .dataframe tbody tr th:only-of-type {\n",
              "        vertical-align: middle;\n",
              "    }\n",
              "\n",
              "    .dataframe tbody tr th {\n",
              "        vertical-align: top;\n",
              "    }\n",
              "\n",
              "    .dataframe thead th {\n",
              "        text-align: right;\n",
              "    }\n",
              "</style>\n",
              "<table border=\"1\" class=\"dataframe\">\n",
              "  <thead>\n",
              "    <tr style=\"text-align: right;\">\n",
              "      <th></th>\n",
              "      <th>Gender_Female</th>\n",
              "      <th>Gender_Male</th>\n",
              "    </tr>\n",
              "  </thead>\n",
              "  <tbody>\n",
              "    <tr>\n",
              "      <th>0</th>\n",
              "      <td>0</td>\n",
              "      <td>1</td>\n",
              "    </tr>\n",
              "    <tr>\n",
              "      <th>1</th>\n",
              "      <td>0</td>\n",
              "      <td>1</td>\n",
              "    </tr>\n",
              "    <tr>\n",
              "      <th>2</th>\n",
              "      <td>0</td>\n",
              "      <td>1</td>\n",
              "    </tr>\n",
              "    <tr>\n",
              "      <th>3</th>\n",
              "      <td>0</td>\n",
              "      <td>1</td>\n",
              "    </tr>\n",
              "    <tr>\n",
              "      <th>4</th>\n",
              "      <td>0</td>\n",
              "      <td>1</td>\n",
              "    </tr>\n",
              "  </tbody>\n",
              "</table>\n",
              "</div>"
            ],
            "text/plain": [
              "   Gender_Female  Gender_Male\n",
              "0              0            1\n",
              "1              0            1\n",
              "2              0            1\n",
              "3              0            1\n",
              "4              0            1"
            ]
          },
          "metadata": {
            "tags": []
          },
          "execution_count": 120
        }
      ]
    },
    {
      "cell_type": "markdown",
      "metadata": {
        "id": "8ESKYkCCYr4u",
        "colab_type": "text"
      },
      "source": [
        "## Feature Transformations"
      ]
    },
    {
      "cell_type": "markdown",
      "metadata": {
        "id": "u3LYe2PCYr4u",
        "colab_type": "text"
      },
      "source": [
        "#### 1) Rescale with fixed factor"
      ]
    },
    {
      "cell_type": "code",
      "metadata": {
        "id": "GL2YZSgNYr4v",
        "colab_type": "code",
        "colab": {}
      },
      "source": [
        "df['Height (feet)'] = df['Height']/12.0\n",
        "df['Weight (100 lbs)'] = df['Weight']/100.0"
      ],
      "execution_count": 0,
      "outputs": []
    },
    {
      "cell_type": "code",
      "metadata": {
        "id": "RD7g5KXGYr4x",
        "colab_type": "code",
        "colab": {
          "base_uri": "https://localhost:8080/",
          "height": 297
        },
        "outputId": "5da7f2b4-b8a0-4346-b38e-b38a0064bdbb"
      },
      "source": [
        "df.describe().round(2)"
      ],
      "execution_count": 122,
      "outputs": [
        {
          "output_type": "execute_result",
          "data": {
            "text/html": [
              "<div>\n",
              "<style scoped>\n",
              "    .dataframe tbody tr th:only-of-type {\n",
              "        vertical-align: middle;\n",
              "    }\n",
              "\n",
              "    .dataframe tbody tr th {\n",
              "        vertical-align: top;\n",
              "    }\n",
              "\n",
              "    .dataframe thead th {\n",
              "        text-align: right;\n",
              "    }\n",
              "</style>\n",
              "<table border=\"1\" class=\"dataframe\">\n",
              "  <thead>\n",
              "    <tr style=\"text-align: right;\">\n",
              "      <th></th>\n",
              "      <th>Height</th>\n",
              "      <th>Weight</th>\n",
              "      <th>Height (feet)</th>\n",
              "      <th>Weight (100 lbs)</th>\n",
              "    </tr>\n",
              "  </thead>\n",
              "  <tbody>\n",
              "    <tr>\n",
              "      <th>count</th>\n",
              "      <td>10000.00</td>\n",
              "      <td>10000.00</td>\n",
              "      <td>10000.00</td>\n",
              "      <td>10000.00</td>\n",
              "    </tr>\n",
              "    <tr>\n",
              "      <th>mean</th>\n",
              "      <td>66.37</td>\n",
              "      <td>161.44</td>\n",
              "      <td>5.53</td>\n",
              "      <td>1.61</td>\n",
              "    </tr>\n",
              "    <tr>\n",
              "      <th>std</th>\n",
              "      <td>3.85</td>\n",
              "      <td>32.11</td>\n",
              "      <td>0.32</td>\n",
              "      <td>0.32</td>\n",
              "    </tr>\n",
              "    <tr>\n",
              "      <th>min</th>\n",
              "      <td>54.26</td>\n",
              "      <td>64.70</td>\n",
              "      <td>4.52</td>\n",
              "      <td>0.65</td>\n",
              "    </tr>\n",
              "    <tr>\n",
              "      <th>25%</th>\n",
              "      <td>63.51</td>\n",
              "      <td>135.82</td>\n",
              "      <td>5.29</td>\n",
              "      <td>1.36</td>\n",
              "    </tr>\n",
              "    <tr>\n",
              "      <th>50%</th>\n",
              "      <td>66.32</td>\n",
              "      <td>161.21</td>\n",
              "      <td>5.53</td>\n",
              "      <td>1.61</td>\n",
              "    </tr>\n",
              "    <tr>\n",
              "      <th>75%</th>\n",
              "      <td>69.17</td>\n",
              "      <td>187.17</td>\n",
              "      <td>5.76</td>\n",
              "      <td>1.87</td>\n",
              "    </tr>\n",
              "    <tr>\n",
              "      <th>max</th>\n",
              "      <td>79.00</td>\n",
              "      <td>269.99</td>\n",
              "      <td>6.58</td>\n",
              "      <td>2.70</td>\n",
              "    </tr>\n",
              "  </tbody>\n",
              "</table>\n",
              "</div>"
            ],
            "text/plain": [
              "         Height    Weight  Height (feet)  Weight (100 lbs)\n",
              "count  10000.00  10000.00       10000.00          10000.00\n",
              "mean      66.37    161.44           5.53              1.61\n",
              "std        3.85     32.11           0.32              0.32\n",
              "min       54.26     64.70           4.52              0.65\n",
              "25%       63.51    135.82           5.29              1.36\n",
              "50%       66.32    161.21           5.53              1.61\n",
              "75%       69.17    187.17           5.76              1.87\n",
              "max       79.00    269.99           6.58              2.70"
            ]
          },
          "metadata": {
            "tags": []
          },
          "execution_count": 122
        }
      ]
    },
    {
      "cell_type": "markdown",
      "metadata": {
        "id": "6fes-GWMYr4y",
        "colab_type": "text"
      },
      "source": [
        "#### MinMax normalization"
      ]
    },
    {
      "cell_type": "code",
      "metadata": {
        "id": "vkRV35JyYr4y",
        "colab_type": "code",
        "colab": {
          "base_uri": "https://localhost:8080/",
          "height": 297
        },
        "outputId": "8e4929f6-ca9b-4d09-9a78-f06cde049d9d"
      },
      "source": [
        "from sklearn.preprocessing import MinMaxScaler\n",
        "\n",
        "mms = MinMaxScaler()\n",
        "df['Weight_mms'] = mms.fit_transform(df[['Weight']])\n",
        "df['Height_mms'] = mms.fit_transform(df[['Height']])\n",
        "df.describe().round(2)"
      ],
      "execution_count": 123,
      "outputs": [
        {
          "output_type": "execute_result",
          "data": {
            "text/html": [
              "<div>\n",
              "<style scoped>\n",
              "    .dataframe tbody tr th:only-of-type {\n",
              "        vertical-align: middle;\n",
              "    }\n",
              "\n",
              "    .dataframe tbody tr th {\n",
              "        vertical-align: top;\n",
              "    }\n",
              "\n",
              "    .dataframe thead th {\n",
              "        text-align: right;\n",
              "    }\n",
              "</style>\n",
              "<table border=\"1\" class=\"dataframe\">\n",
              "  <thead>\n",
              "    <tr style=\"text-align: right;\">\n",
              "      <th></th>\n",
              "      <th>Height</th>\n",
              "      <th>Weight</th>\n",
              "      <th>Height (feet)</th>\n",
              "      <th>Weight (100 lbs)</th>\n",
              "      <th>Weight_mms</th>\n",
              "      <th>Height_mms</th>\n",
              "    </tr>\n",
              "  </thead>\n",
              "  <tbody>\n",
              "    <tr>\n",
              "      <th>count</th>\n",
              "      <td>10000.00</td>\n",
              "      <td>10000.00</td>\n",
              "      <td>10000.00</td>\n",
              "      <td>10000.00</td>\n",
              "      <td>10000.00</td>\n",
              "      <td>10000.00</td>\n",
              "    </tr>\n",
              "    <tr>\n",
              "      <th>mean</th>\n",
              "      <td>66.37</td>\n",
              "      <td>161.44</td>\n",
              "      <td>5.53</td>\n",
              "      <td>1.61</td>\n",
              "      <td>0.47</td>\n",
              "      <td>0.49</td>\n",
              "    </tr>\n",
              "    <tr>\n",
              "      <th>std</th>\n",
              "      <td>3.85</td>\n",
              "      <td>32.11</td>\n",
              "      <td>0.32</td>\n",
              "      <td>0.32</td>\n",
              "      <td>0.16</td>\n",
              "      <td>0.16</td>\n",
              "    </tr>\n",
              "    <tr>\n",
              "      <th>min</th>\n",
              "      <td>54.26</td>\n",
              "      <td>64.70</td>\n",
              "      <td>4.52</td>\n",
              "      <td>0.65</td>\n",
              "      <td>0.00</td>\n",
              "      <td>0.00</td>\n",
              "    </tr>\n",
              "    <tr>\n",
              "      <th>25%</th>\n",
              "      <td>63.51</td>\n",
              "      <td>135.82</td>\n",
              "      <td>5.29</td>\n",
              "      <td>1.36</td>\n",
              "      <td>0.35</td>\n",
              "      <td>0.37</td>\n",
              "    </tr>\n",
              "    <tr>\n",
              "      <th>50%</th>\n",
              "      <td>66.32</td>\n",
              "      <td>161.21</td>\n",
              "      <td>5.53</td>\n",
              "      <td>1.61</td>\n",
              "      <td>0.47</td>\n",
              "      <td>0.49</td>\n",
              "    </tr>\n",
              "    <tr>\n",
              "      <th>75%</th>\n",
              "      <td>69.17</td>\n",
              "      <td>187.17</td>\n",
              "      <td>5.76</td>\n",
              "      <td>1.87</td>\n",
              "      <td>0.60</td>\n",
              "      <td>0.60</td>\n",
              "    </tr>\n",
              "    <tr>\n",
              "      <th>max</th>\n",
              "      <td>79.00</td>\n",
              "      <td>269.99</td>\n",
              "      <td>6.58</td>\n",
              "      <td>2.70</td>\n",
              "      <td>1.00</td>\n",
              "      <td>1.00</td>\n",
              "    </tr>\n",
              "  </tbody>\n",
              "</table>\n",
              "</div>"
            ],
            "text/plain": [
              "         Height    Weight  ...  Weight_mms  Height_mms\n",
              "count  10000.00  10000.00  ...    10000.00    10000.00\n",
              "mean      66.37    161.44  ...        0.47        0.49\n",
              "std        3.85     32.11  ...        0.16        0.16\n",
              "min       54.26     64.70  ...        0.00        0.00\n",
              "25%       63.51    135.82  ...        0.35        0.37\n",
              "50%       66.32    161.21  ...        0.47        0.49\n",
              "75%       69.17    187.17  ...        0.60        0.60\n",
              "max       79.00    269.99  ...        1.00        1.00\n",
              "\n",
              "[8 rows x 6 columns]"
            ]
          },
          "metadata": {
            "tags": []
          },
          "execution_count": 123
        }
      ]
    },
    {
      "cell_type": "markdown",
      "metadata": {
        "id": "KxyVorD6Yr40",
        "colab_type": "text"
      },
      "source": [
        "#### 3) Standard normalization"
      ]
    },
    {
      "cell_type": "code",
      "metadata": {
        "id": "O31kaYpLYr41",
        "colab_type": "code",
        "colab": {
          "base_uri": "https://localhost:8080/",
          "height": 297
        },
        "outputId": "abc24c4b-4e8d-4122-dcff-eb29ac75cbff"
      },
      "source": [
        "from sklearn.preprocessing import StandardScaler\n",
        "\n",
        "ss = StandardScaler()\n",
        "df['Weight_ss'] = ss.fit_transform(df[['Weight']])\n",
        "df['Height_ss'] = ss.fit_transform(df[['Height']])\n",
        "df.describe().round(2)"
      ],
      "execution_count": 124,
      "outputs": [
        {
          "output_type": "execute_result",
          "data": {
            "text/html": [
              "<div>\n",
              "<style scoped>\n",
              "    .dataframe tbody tr th:only-of-type {\n",
              "        vertical-align: middle;\n",
              "    }\n",
              "\n",
              "    .dataframe tbody tr th {\n",
              "        vertical-align: top;\n",
              "    }\n",
              "\n",
              "    .dataframe thead th {\n",
              "        text-align: right;\n",
              "    }\n",
              "</style>\n",
              "<table border=\"1\" class=\"dataframe\">\n",
              "  <thead>\n",
              "    <tr style=\"text-align: right;\">\n",
              "      <th></th>\n",
              "      <th>Height</th>\n",
              "      <th>Weight</th>\n",
              "      <th>Height (feet)</th>\n",
              "      <th>Weight (100 lbs)</th>\n",
              "      <th>Weight_mms</th>\n",
              "      <th>Height_mms</th>\n",
              "      <th>Weight_ss</th>\n",
              "      <th>Height_ss</th>\n",
              "    </tr>\n",
              "  </thead>\n",
              "  <tbody>\n",
              "    <tr>\n",
              "      <th>count</th>\n",
              "      <td>10000.00</td>\n",
              "      <td>10000.00</td>\n",
              "      <td>10000.00</td>\n",
              "      <td>10000.00</td>\n",
              "      <td>10000.00</td>\n",
              "      <td>10000.00</td>\n",
              "      <td>10000.00</td>\n",
              "      <td>10000.00</td>\n",
              "    </tr>\n",
              "    <tr>\n",
              "      <th>mean</th>\n",
              "      <td>66.37</td>\n",
              "      <td>161.44</td>\n",
              "      <td>5.53</td>\n",
              "      <td>1.61</td>\n",
              "      <td>0.47</td>\n",
              "      <td>0.49</td>\n",
              "      <td>-0.00</td>\n",
              "      <td>-0.00</td>\n",
              "    </tr>\n",
              "    <tr>\n",
              "      <th>std</th>\n",
              "      <td>3.85</td>\n",
              "      <td>32.11</td>\n",
              "      <td>0.32</td>\n",
              "      <td>0.32</td>\n",
              "      <td>0.16</td>\n",
              "      <td>0.16</td>\n",
              "      <td>1.00</td>\n",
              "      <td>1.00</td>\n",
              "    </tr>\n",
              "    <tr>\n",
              "      <th>min</th>\n",
              "      <td>54.26</td>\n",
              "      <td>64.70</td>\n",
              "      <td>4.52</td>\n",
              "      <td>0.65</td>\n",
              "      <td>0.00</td>\n",
              "      <td>0.00</td>\n",
              "      <td>-3.01</td>\n",
              "      <td>-3.15</td>\n",
              "    </tr>\n",
              "    <tr>\n",
              "      <th>25%</th>\n",
              "      <td>63.51</td>\n",
              "      <td>135.82</td>\n",
              "      <td>5.29</td>\n",
              "      <td>1.36</td>\n",
              "      <td>0.35</td>\n",
              "      <td>0.37</td>\n",
              "      <td>-0.80</td>\n",
              "      <td>-0.74</td>\n",
              "    </tr>\n",
              "    <tr>\n",
              "      <th>50%</th>\n",
              "      <td>66.32</td>\n",
              "      <td>161.21</td>\n",
              "      <td>5.53</td>\n",
              "      <td>1.61</td>\n",
              "      <td>0.47</td>\n",
              "      <td>0.49</td>\n",
              "      <td>-0.01</td>\n",
              "      <td>-0.01</td>\n",
              "    </tr>\n",
              "    <tr>\n",
              "      <th>75%</th>\n",
              "      <td>69.17</td>\n",
              "      <td>187.17</td>\n",
              "      <td>5.76</td>\n",
              "      <td>1.87</td>\n",
              "      <td>0.60</td>\n",
              "      <td>0.60</td>\n",
              "      <td>0.80</td>\n",
              "      <td>0.73</td>\n",
              "    </tr>\n",
              "    <tr>\n",
              "      <th>max</th>\n",
              "      <td>79.00</td>\n",
              "      <td>269.99</td>\n",
              "      <td>6.58</td>\n",
              "      <td>2.70</td>\n",
              "      <td>1.00</td>\n",
              "      <td>1.00</td>\n",
              "      <td>3.38</td>\n",
              "      <td>3.28</td>\n",
              "    </tr>\n",
              "  </tbody>\n",
              "</table>\n",
              "</div>"
            ],
            "text/plain": [
              "         Height    Weight  Height (feet)  ...  Height_mms  Weight_ss  Height_ss\n",
              "count  10000.00  10000.00       10000.00  ...    10000.00   10000.00   10000.00\n",
              "mean      66.37    161.44           5.53  ...        0.49      -0.00      -0.00\n",
              "std        3.85     32.11           0.32  ...        0.16       1.00       1.00\n",
              "min       54.26     64.70           4.52  ...        0.00      -3.01      -3.15\n",
              "25%       63.51    135.82           5.29  ...        0.37      -0.80      -0.74\n",
              "50%       66.32    161.21           5.53  ...        0.49      -0.01      -0.01\n",
              "75%       69.17    187.17           5.76  ...        0.60       0.80       0.73\n",
              "max       79.00    269.99           6.58  ...        1.00       3.38       3.28\n",
              "\n",
              "[8 rows x 8 columns]"
            ]
          },
          "metadata": {
            "tags": []
          },
          "execution_count": 124
        }
      ]
    },
    {
      "cell_type": "code",
      "metadata": {
        "id": "3MXYdgtBYr42",
        "colab_type": "code",
        "colab": {
          "base_uri": "https://localhost:8080/",
          "height": 351
        },
        "outputId": "cc6fff71-ed6a-47fb-cb3f-9f77446eb280"
      },
      "source": [
        "plt.figure(figsize=(15, 5))\n",
        "\n",
        "for i, feature in enumerate(['Height', 'Height (feet)', 'Height_mms', 'Height_ss']):\n",
        "    plt.subplot(1, 4, i+1)\n",
        "    df[feature].plot(kind='hist', title=feature)\n",
        "    plt.xlabel(feature)"
      ],
      "execution_count": 125,
      "outputs": [
        {
          "output_type": "display_data",
          "data": {
            "image/png": "[encoded data removed]",
            "text/plain": [
              "<Figure size 1080x360 with 4 Axes>"
            ]
          },
          "metadata": {
            "tags": [],
            "needs_background": "light"
          }
        }
      ]
    },
    {
      "cell_type": "markdown",
      "metadata": {
        "id": "eoOePZRIYr43",
        "colab_type": "text"
      },
      "source": [
        "# Machine Learning Exercises"
      ]
    },
    {
      "cell_type": "markdown",
      "metadata": {
        "id": "1tCRxsQIYr44",
        "colab_type": "text"
      },
      "source": [
        "## Exercise 1\n",
        "\n",
        "You've just been hired at a real estate investment firm and they would like you to build a model for pricing houses. You are given a dataset that contains data for house prices and a few features like number of bedrooms, size in square feet and age of the house. Let's see if you can build a model that is able to predict the price. In this exercise we extend what we have learned about linear regression to a dataset with more than one feature. Here are the steps to complete it:\n",
        "\n",
        "1. Load the dataset ../data/housing-data.csv\n",
        "- plot the histograms for each feature\n",
        "- create 2 variables called X and y: X shall be a matrix with 3 columns (sqft,bdrms,age) and y shall be a vector with 1 column (price)\n",
        "- create a linear regression model in Keras with the appropriate number of inputs and output\n",
        "- split the data into train and test with a 20% test size\n",
        "- train the model on the training set and check its accuracy on training and test set\n",
        "- how's your model doing? Is the loss growing smaller?\n",
        "- try to improve your model with these experiments:\n",
        "    - normalize the input features with one of the rescaling techniques mentioned above\n",
        "    - use a different value for the learning rate of your model\n",
        "    - use a different optimizer\n",
        "- once you're satisfied with training, check the R2score on the test set"
      ]
    },
    {
      "cell_type": "code",
      "metadata": {
        "id": "fw5R4Qv9Yr44",
        "colab_type": "code",
        "colab": {
          "base_uri": "https://localhost:8080/",
          "height": 297
        },
        "outputId": "8958b34e-2d67-4939-fe43-5983aaf559ff"
      },
      "source": [
        "df = pd.read_csv(\"zero_to_deep_learning_video/data/housing-data.csv\")\n",
        "df.describe()"
      ],
      "execution_count": 5,
      "outputs": [
        {
          "output_type": "execute_result",
          "data": {
            "text/html": [
              "<div>\n",
              "<style scoped>\n",
              "    .dataframe tbody tr th:only-of-type {\n",
              "        vertical-align: middle;\n",
              "    }\n",
              "\n",
              "    .dataframe tbody tr th {\n",
              "        vertical-align: top;\n",
              "    }\n",
              "\n",
              "    .dataframe thead th {\n",
              "        text-align: right;\n",
              "    }\n",
              "</style>\n",
              "<table border=\"1\" class=\"dataframe\">\n",
              "  <thead>\n",
              "    <tr style=\"text-align: right;\">\n",
              "      <th></th>\n",
              "      <th>sqft</th>\n",
              "      <th>bdrms</th>\n",
              "      <th>age</th>\n",
              "      <th>price</th>\n",
              "    </tr>\n",
              "  </thead>\n",
              "  <tbody>\n",
              "    <tr>\n",
              "      <th>count</th>\n",
              "      <td>47.000000</td>\n",
              "      <td>47.000000</td>\n",
              "      <td>47.000000</td>\n",
              "      <td>47.000000</td>\n",
              "    </tr>\n",
              "    <tr>\n",
              "      <th>mean</th>\n",
              "      <td>2000.680851</td>\n",
              "      <td>3.170213</td>\n",
              "      <td>42.744681</td>\n",
              "      <td>340412.659574</td>\n",
              "    </tr>\n",
              "    <tr>\n",
              "      <th>std</th>\n",
              "      <td>794.702354</td>\n",
              "      <td>0.760982</td>\n",
              "      <td>22.873440</td>\n",
              "      <td>125039.899586</td>\n",
              "    </tr>\n",
              "    <tr>\n",
              "      <th>min</th>\n",
              "      <td>852.000000</td>\n",
              "      <td>1.000000</td>\n",
              "      <td>5.000000</td>\n",
              "      <td>169900.000000</td>\n",
              "    </tr>\n",
              "    <tr>\n",
              "      <th>25%</th>\n",
              "      <td>1432.000000</td>\n",
              "      <td>3.000000</td>\n",
              "      <td>24.500000</td>\n",
              "      <td>249900.000000</td>\n",
              "    </tr>\n",
              "    <tr>\n",
              "      <th>50%</th>\n",
              "      <td>1888.000000</td>\n",
              "      <td>3.000000</td>\n",
              "      <td>44.000000</td>\n",
              "      <td>299900.000000</td>\n",
              "    </tr>\n",
              "    <tr>\n",
              "      <th>75%</th>\n",
              "      <td>2269.000000</td>\n",
              "      <td>4.000000</td>\n",
              "      <td>61.500000</td>\n",
              "      <td>384450.000000</td>\n",
              "    </tr>\n",
              "    <tr>\n",
              "      <th>max</th>\n",
              "      <td>4478.000000</td>\n",
              "      <td>5.000000</td>\n",
              "      <td>79.000000</td>\n",
              "      <td>699900.000000</td>\n",
              "    </tr>\n",
              "  </tbody>\n",
              "</table>\n",
              "</div>"
            ],
            "text/plain": [
              "              sqft      bdrms        age          price\n",
              "count    47.000000  47.000000  47.000000      47.000000\n",
              "mean   2000.680851   3.170213  42.744681  340412.659574\n",
              "std     794.702354   0.760982  22.873440  125039.899586\n",
              "min     852.000000   1.000000   5.000000  169900.000000\n",
              "25%    1432.000000   3.000000  24.500000  249900.000000\n",
              "50%    1888.000000   3.000000  44.000000  299900.000000\n",
              "75%    2269.000000   4.000000  61.500000  384450.000000\n",
              "max    4478.000000   5.000000  79.000000  699900.000000"
            ]
          },
          "metadata": {
            "tags": []
          },
          "execution_count": 5
        }
      ]
    },
    {
      "cell_type": "code",
      "metadata": {
        "id": "kR-If77_t6Xo",
        "colab_type": "code",
        "colab": {
          "base_uri": "https://localhost:8080/",
          "height": 297
        },
        "outputId": "b25aff69-6f9a-423a-a19c-e5bfa79049e1"
      },
      "source": [
        "from sklearn.preprocessing import StandardScaler, MinMaxScaler\n",
        "\n",
        "ss = StandardScaler()\n",
        "df['sqft_ss'] = ss.fit_transform(df[['sqft']])\n",
        "df['bdrms_ss'] = ss.fit_transform(df[['bdrms']])\n",
        "df['age_ss'] = ss.fit_transform(df[['age']])\n",
        "df['price_ss'] = ss.fit_transform(df[['price']])\n",
        "\n",
        "df.describe().round(2)"
      ],
      "execution_count": 23,
      "outputs": [
        {
          "output_type": "execute_result",
          "data": {
            "text/html": [
              "<div>\n",
              "<style scoped>\n",
              "    .dataframe tbody tr th:only-of-type {\n",
              "        vertical-align: middle;\n",
              "    }\n",
              "\n",
              "    .dataframe tbody tr th {\n",
              "        vertical-align: top;\n",
              "    }\n",
              "\n",
              "    .dataframe thead th {\n",
              "        text-align: right;\n",
              "    }\n",
              "</style>\n",
              "<table border=\"1\" class=\"dataframe\">\n",
              "  <thead>\n",
              "    <tr style=\"text-align: right;\">\n",
              "      <th></th>\n",
              "      <th>sqft</th>\n",
              "      <th>bdrms</th>\n",
              "      <th>age</th>\n",
              "      <th>price</th>\n",
              "      <th>sqft_ss</th>\n",
              "      <th>bdrms_ss</th>\n",
              "      <th>age_ss</th>\n",
              "      <th>price_ss</th>\n",
              "    </tr>\n",
              "  </thead>\n",
              "  <tbody>\n",
              "    <tr>\n",
              "      <th>count</th>\n",
              "      <td>47.00</td>\n",
              "      <td>47.00</td>\n",
              "      <td>47.00</td>\n",
              "      <td>47.00</td>\n",
              "      <td>47.00</td>\n",
              "      <td>47.00</td>\n",
              "      <td>47.00</td>\n",
              "      <td>47.00</td>\n",
              "    </tr>\n",
              "    <tr>\n",
              "      <th>mean</th>\n",
              "      <td>2000.68</td>\n",
              "      <td>3.17</td>\n",
              "      <td>42.74</td>\n",
              "      <td>340412.66</td>\n",
              "      <td>-0.00</td>\n",
              "      <td>0.00</td>\n",
              "      <td>0.00</td>\n",
              "      <td>-0.00</td>\n",
              "    </tr>\n",
              "    <tr>\n",
              "      <th>std</th>\n",
              "      <td>794.70</td>\n",
              "      <td>0.76</td>\n",
              "      <td>22.87</td>\n",
              "      <td>125039.90</td>\n",
              "      <td>1.01</td>\n",
              "      <td>1.01</td>\n",
              "      <td>1.01</td>\n",
              "      <td>1.01</td>\n",
              "    </tr>\n",
              "    <tr>\n",
              "      <th>min</th>\n",
              "      <td>852.00</td>\n",
              "      <td>1.00</td>\n",
              "      <td>5.00</td>\n",
              "      <td>169900.00</td>\n",
              "      <td>-1.46</td>\n",
              "      <td>-2.88</td>\n",
              "      <td>-1.67</td>\n",
              "      <td>-1.38</td>\n",
              "    </tr>\n",
              "    <tr>\n",
              "      <th>25%</th>\n",
              "      <td>1432.00</td>\n",
              "      <td>3.00</td>\n",
              "      <td>24.50</td>\n",
              "      <td>249900.00</td>\n",
              "      <td>-0.72</td>\n",
              "      <td>-0.23</td>\n",
              "      <td>-0.81</td>\n",
              "      <td>-0.73</td>\n",
              "    </tr>\n",
              "    <tr>\n",
              "      <th>50%</th>\n",
              "      <td>1888.00</td>\n",
              "      <td>3.00</td>\n",
              "      <td>44.00</td>\n",
              "      <td>299900.00</td>\n",
              "      <td>-0.14</td>\n",
              "      <td>-0.23</td>\n",
              "      <td>0.06</td>\n",
              "      <td>-0.33</td>\n",
              "    </tr>\n",
              "    <tr>\n",
              "      <th>75%</th>\n",
              "      <td>2269.00</td>\n",
              "      <td>4.00</td>\n",
              "      <td>61.50</td>\n",
              "      <td>384450.00</td>\n",
              "      <td>0.34</td>\n",
              "      <td>1.10</td>\n",
              "      <td>0.83</td>\n",
              "      <td>0.36</td>\n",
              "    </tr>\n",
              "    <tr>\n",
              "      <th>max</th>\n",
              "      <td>4478.00</td>\n",
              "      <td>5.00</td>\n",
              "      <td>79.00</td>\n",
              "      <td>699900.00</td>\n",
              "      <td>3.15</td>\n",
              "      <td>2.43</td>\n",
              "      <td>1.60</td>\n",
              "      <td>2.91</td>\n",
              "    </tr>\n",
              "  </tbody>\n",
              "</table>\n",
              "</div>"
            ],
            "text/plain": [
              "          sqft  bdrms    age      price  sqft_ss  bdrms_ss  age_ss  price_ss\n",
              "count    47.00  47.00  47.00      47.00    47.00     47.00   47.00     47.00\n",
              "mean   2000.68   3.17  42.74  340412.66    -0.00      0.00    0.00     -0.00\n",
              "std     794.70   0.76  22.87  125039.90     1.01      1.01    1.01      1.01\n",
              "min     852.00   1.00   5.00  169900.00    -1.46     -2.88   -1.67     -1.38\n",
              "25%    1432.00   3.00  24.50  249900.00    -0.72     -0.23   -0.81     -0.73\n",
              "50%    1888.00   3.00  44.00  299900.00    -0.14     -0.23    0.06     -0.33\n",
              "75%    2269.00   4.00  61.50  384450.00     0.34      1.10    0.83      0.36\n",
              "max    4478.00   5.00  79.00  699900.00     3.15      2.43    1.60      2.91"
            ]
          },
          "metadata": {
            "tags": []
          },
          "execution_count": 23
        }
      ]
    },
    {
      "cell_type": "code",
      "metadata": {
        "id": "S6JTFZjUl4T-",
        "colab_type": "code",
        "colab": {}
      },
      "source": [
        "#X = df[[\"sqft\",\"bdrms\",\"age\"]].values\n",
        "X = df[[\"sqft_ss\",\"bdrms_ss\",\"age_ss\"]].values\n",
        "Y = df[[\"price_ss\"]].values"
      ],
      "execution_count": 0,
      "outputs": []
    },
    {
      "cell_type": "code",
      "metadata": {
        "id": "nkBLUBWzwrKS",
        "colab_type": "code",
        "colab": {}
      },
      "source": [
        "from keras.models import Sequential\n",
        "from keras.layers import Dense\n",
        "from keras.optimizers import Adam\n",
        "from sklearn.model_selection import train_test_split\n"
      ],
      "execution_count": 0,
      "outputs": []
    },
    {
      "cell_type": "code",
      "metadata": {
        "colab_type": "code",
        "id": "H6-VJEQEnJRk",
        "colab": {
          "base_uri": "https://localhost:8080/",
          "height": 1000
        },
        "outputId": "9f0bd36d-52dc-4053-8f3d-679ebcf43b52"
      },
      "source": [
        "model = Sequential()\n",
        "model.add(Dense(1, input_shape=(3,)))\n",
        "model.compile(Adam(lr=0.8), 'mean_squared_error')\n",
        "model.summary()\n",
        "X_train, X_test, y_train, y_test = train_test_split(X, Y, test_size=0.2)\n",
        "model.fit(X_train, y_train, epochs=40)"
      ],
      "execution_count": 26,
      "outputs": [
        {
          "output_type": "stream",
          "text": [
            "Model: \"sequential_5\"\n",
            "_________________________________________________________________\n",
            "Layer (type)                 Output Shape              Param #   \n",
            "=================================================================\n",
            "dense_5 (Dense)              (None, 1)                 4         \n",
            "=================================================================\n",
            "Total params: 4\n",
            "Trainable params: 4\n",
            "Non-trainable params: 0\n",
            "_________________________________________________________________\n",
            "Epoch 1/40\n",
            "37/37 [==============================] - 0s 1ms/step - loss: 4.5770\n",
            "Epoch 2/40\n",
            "37/37 [==============================] - 0s 145us/step - loss: 1.0406\n",
            "Epoch 3/40\n",
            "37/37 [==============================] - 0s 151us/step - loss: 2.3343\n",
            "Epoch 4/40\n",
            "37/37 [==============================] - 0s 158us/step - loss: 1.7314\n",
            "Epoch 5/40\n",
            "37/37 [==============================] - 0s 142us/step - loss: 0.7683\n",
            "Epoch 6/40\n",
            "37/37 [==============================] - 0s 130us/step - loss: 0.4784\n",
            "Epoch 7/40\n",
            "37/37 [==============================] - 0s 130us/step - loss: 0.7870\n",
            "Epoch 8/40\n",
            "37/37 [==============================] - 0s 145us/step - loss: 0.7744\n",
            "Epoch 9/40\n",
            "37/37 [==============================] - 0s 153us/step - loss: 0.3743\n",
            "Epoch 10/40\n",
            "37/37 [==============================] - 0s 161us/step - loss: 0.4483\n",
            "Epoch 11/40\n",
            "37/37 [==============================] - 0s 150us/step - loss: 0.7379\n",
            "Epoch 12/40\n",
            "37/37 [==============================] - 0s 152us/step - loss: 0.6043\n",
            "Epoch 13/40\n",
            "37/37 [==============================] - 0s 137us/step - loss: 0.4198\n",
            "Epoch 14/40\n",
            "37/37 [==============================] - 0s 141us/step - loss: 0.3812\n",
            "Epoch 15/40\n",
            "37/37 [==============================] - 0s 131us/step - loss: 0.3915\n",
            "Epoch 16/40\n",
            "37/37 [==============================] - 0s 125us/step - loss: 0.3490\n",
            "Epoch 17/40\n",
            "37/37 [==============================] - 0s 126us/step - loss: 0.2959\n",
            "Epoch 18/40\n",
            "37/37 [==============================] - 0s 126us/step - loss: 0.2880\n",
            "Epoch 19/40\n",
            "37/37 [==============================] - 0s 135us/step - loss: 0.3138\n",
            "Epoch 20/40\n",
            "37/37 [==============================] - 0s 128us/step - loss: 0.2860\n",
            "Epoch 21/40\n",
            "37/37 [==============================] - 0s 130us/step - loss: 0.2796\n",
            "Epoch 22/40\n",
            "37/37 [==============================] - 0s 130us/step - loss: 0.3863\n",
            "Epoch 23/40\n",
            "37/37 [==============================] - 0s 126us/step - loss: 0.3939\n",
            "Epoch 24/40\n",
            "37/37 [==============================] - 0s 145us/step - loss: 0.2897\n",
            "Epoch 25/40\n",
            "37/37 [==============================] - 0s 127us/step - loss: 0.3467\n",
            "Epoch 26/40\n",
            "37/37 [==============================] - 0s 119us/step - loss: 0.3718\n",
            "Epoch 27/40\n",
            "37/37 [==============================] - 0s 119us/step - loss: 0.4628\n",
            "Epoch 28/40\n",
            "37/37 [==============================] - 0s 112us/step - loss: 0.3160\n",
            "Epoch 29/40\n",
            "37/37 [==============================] - 0s 117us/step - loss: 0.3797\n",
            "Epoch 30/40\n",
            "37/37 [==============================] - 0s 121us/step - loss: 0.5694\n",
            "Epoch 31/40\n",
            "37/37 [==============================] - 0s 117us/step - loss: 0.3413\n",
            "Epoch 32/40\n",
            "37/37 [==============================] - 0s 137us/step - loss: 0.6182\n",
            "Epoch 33/40\n",
            "37/37 [==============================] - 0s 141us/step - loss: 0.8320\n",
            "Epoch 34/40\n",
            "37/37 [==============================] - 0s 135us/step - loss: 0.3968\n",
            "Epoch 35/40\n",
            "37/37 [==============================] - 0s 156us/step - loss: 0.4318\n",
            "Epoch 36/40\n",
            "37/37 [==============================] - 0s 147us/step - loss: 0.7800\n",
            "Epoch 37/40\n",
            "37/37 [==============================] - 0s 145us/step - loss: 0.5212\n",
            "Epoch 38/40\n",
            "37/37 [==============================] - 0s 132us/step - loss: 0.3459\n",
            "Epoch 39/40\n",
            "37/37 [==============================] - 0s 122us/step - loss: 0.6617\n",
            "Epoch 40/40\n",
            "37/37 [==============================] - 0s 119us/step - loss: 0.5227\n"
          ],
          "name": "stdout"
        },
        {
          "output_type": "execute_result",
          "data": {
            "text/plain": [
              "<keras.callbacks.callbacks.History at 0x7f7f214450f0>"
            ]
          },
          "metadata": {
            "tags": []
          },
          "execution_count": 26
        }
      ]
    },
    {
      "cell_type": "code",
      "metadata": {
        "id": "Dv3u_P0Tl4b8",
        "colab_type": "code",
        "colab": {}
      },
      "source": [
        "from sklearn.metrics import r2_score"
      ],
      "execution_count": 0,
      "outputs": []
    },
    {
      "cell_type": "code",
      "metadata": {
        "id": "PY_9yFVbl4Wg",
        "colab_type": "code",
        "colab": {
          "base_uri": "https://localhost:8080/",
          "height": 51
        },
        "outputId": "89e4c8e9-71da-49a3-8656-57ffd2cd427d"
      },
      "source": [
        "y_train_pred = model.predict(X_train)\n",
        "y_test_pred = model.predict(X_test)\n",
        "print(\"The R2 score on the Train set is:\\t{:0.3f}\".format(r2_score(y_train, y_train_pred)))\n",
        "print(\"The R2 score on the Test set is:\\t{:0.3f}\".format(r2_score(y_test, y_test_pred)))"
      ],
      "execution_count": 28,
      "outputs": [
        {
          "output_type": "stream",
          "text": [
            "The R2 score on the Train set is:\t0.660\n",
            "The R2 score on the Test set is:\t0.640\n"
          ],
          "name": "stdout"
        }
      ]
    },
    {
      "cell_type": "code",
      "metadata": {
        "id": "nSIiwndSl4ZG",
        "colab_type": "code",
        "colab": {}
      },
      "source": [
        ""
      ],
      "execution_count": 0,
      "outputs": []
    },
    {
      "cell_type": "code",
      "metadata": {
        "colab_type": "code",
        "id": "7boJiSWPzcfh",
        "colab": {}
      },
      "source": [
        ""
      ],
      "execution_count": 0,
      "outputs": []
    },
    {
      "cell_type": "markdown",
      "metadata": {
        "id": "kuNPo7hwYr45",
        "colab_type": "text"
      },
      "source": [
        "## Exercise 2\n",
        "\n",
        "Your boss was extremely happy with your work on the housing price prediction model and decided to entrust you with a more challenging task. They've seen a lot of people leave the company recently and they would like to understand why that's happening. They have collected historical data on employees and they would like you to build a model that is able to predict which employee will leave next. They would like a model that is better than random guessing. They also prefer false negatives than false positives, in this first phase. Fields in the dataset include:\n",
        "\n",
        "- Employee satisfaction level\n",
        "- Last evaluation\n",
        "- Number of projects\n",
        "- Average monthly hours\n",
        "- Time spent at the company\n",
        "- Whether they have had a work accident\n",
        "- Whether they have had a promotion in the last 5 years\n",
        "- Department\n",
        "- Salary\n",
        "- Whether the employee has left\n",
        "\n",
        "Your goal is to predict the binary outcome variable `left` using the rest of the data. Since the outcome is binary, this is a classification problem. Here are some things you may want to try out:\n",
        "\n",
        "1. load the dataset at ../data/HR_comma_sep.csv, inspect it with `.head()`, `.info()` and `.describe()`.\n",
        "- Establish a benchmark: what would be your accuracy score if you predicted everyone stay?\n",
        "- Check if any feature needs rescaling. You may plot a histogram of the feature to decide which rescaling method is more appropriate.\n",
        "- convert the categorical features into binary dummy columns. You will then have to combine them with the numerical features using `pd.concat`.\n",
        "- do the usual train/test split with a 20% test size\n",
        "- play around with learning rate and optimizer\n",
        "- check the confusion matrix, precision and recall\n",
        "- check if you still get the same results if you use a 5-Fold cross validation on all the data\n",
        "- Is the model good enough for your boss?\n",
        "\n",
        "As you will see in this exercise, the a logistic regression model is not good enough to help your boss. In the next chapter we will learn how to go beyond linear models.\n",
        "\n",
        "This dataset comes from https://www.kaggle.com/ludobenistant/hr-analytics/ and is released under [CC BY-SA 4.0 License](https://creativecommons.org/licenses/by-sa/4.0/)."
      ]
    },
    {
      "cell_type": "code",
      "metadata": {
        "id": "3RlYDetLYr45",
        "colab_type": "code",
        "colab": {
          "base_uri": "https://localhost:8080/",
          "height": 306
        },
        "outputId": "b9e02a56-a583-4fa7-ebc7-181b26b90829"
      },
      "source": [
        "df = pd.read_csv(\"zero_to_deep_learning_video/data/HR_comma_sep.csv\")\n",
        "df.info()"
      ],
      "execution_count": 5,
      "outputs": [
        {
          "output_type": "stream",
          "text": [
            "<class 'pandas.core.frame.DataFrame'>\n",
            "RangeIndex: 14999 entries, 0 to 14998\n",
            "Data columns (total 10 columns):\n",
            " #   Column                 Non-Null Count  Dtype  \n",
            "---  ------                 --------------  -----  \n",
            " 0   satisfaction_level     14999 non-null  float64\n",
            " 1   last_evaluation        14999 non-null  float64\n",
            " 2   number_project         14999 non-null  int64  \n",
            " 3   average_montly_hours   14999 non-null  int64  \n",
            " 4   time_spend_company     14999 non-null  int64  \n",
            " 5   Work_accident          14999 non-null  int64  \n",
            " 6   left                   14999 non-null  int64  \n",
            " 7   promotion_last_5years  14999 non-null  int64  \n",
            " 8   sales                  14999 non-null  object \n",
            " 9   salary                 14999 non-null  object \n",
            "dtypes: float64(2), int64(6), object(2)\n",
            "memory usage: 1.1+ MB\n"
          ],
          "name": "stdout"
        }
      ]
    },
    {
      "cell_type": "code",
      "metadata": {
        "id": "M3W32kZZ5mm5",
        "colab_type": "code",
        "colab": {
          "base_uri": "https://localhost:8080/",
          "height": 142
        },
        "outputId": "8a4660cf-b07e-4aa4-ccbc-3e30bf2879eb"
      },
      "source": [
        "df.head(3)"
      ],
      "execution_count": 6,
      "outputs": [
        {
          "output_type": "execute_result",
          "data": {
            "text/html": [
              "<div>\n",
              "<style scoped>\n",
              "    .dataframe tbody tr th:only-of-type {\n",
              "        vertical-align: middle;\n",
              "    }\n",
              "\n",
              "    .dataframe tbody tr th {\n",
              "        vertical-align: top;\n",
              "    }\n",
              "\n",
              "    .dataframe thead th {\n",
              "        text-align: right;\n",
              "    }\n",
              "</style>\n",
              "<table border=\"1\" class=\"dataframe\">\n",
              "  <thead>\n",
              "    <tr style=\"text-align: right;\">\n",
              "      <th></th>\n",
              "      <th>satisfaction_level</th>\n",
              "      <th>last_evaluation</th>\n",
              "      <th>number_project</th>\n",
              "      <th>average_montly_hours</th>\n",
              "      <th>time_spend_company</th>\n",
              "      <th>Work_accident</th>\n",
              "      <th>left</th>\n",
              "      <th>promotion_last_5years</th>\n",
              "      <th>sales</th>\n",
              "      <th>salary</th>\n",
              "    </tr>\n",
              "  </thead>\n",
              "  <tbody>\n",
              "    <tr>\n",
              "      <th>0</th>\n",
              "      <td>0.38</td>\n",
              "      <td>0.53</td>\n",
              "      <td>2</td>\n",
              "      <td>157</td>\n",
              "      <td>3</td>\n",
              "      <td>0</td>\n",
              "      <td>1</td>\n",
              "      <td>0</td>\n",
              "      <td>sales</td>\n",
              "      <td>low</td>\n",
              "    </tr>\n",
              "    <tr>\n",
              "      <th>1</th>\n",
              "      <td>0.80</td>\n",
              "      <td>0.86</td>\n",
              "      <td>5</td>\n",
              "      <td>262</td>\n",
              "      <td>6</td>\n",
              "      <td>0</td>\n",
              "      <td>1</td>\n",
              "      <td>0</td>\n",
              "      <td>sales</td>\n",
              "      <td>medium</td>\n",
              "    </tr>\n",
              "    <tr>\n",
              "      <th>2</th>\n",
              "      <td>0.11</td>\n",
              "      <td>0.88</td>\n",
              "      <td>7</td>\n",
              "      <td>272</td>\n",
              "      <td>4</td>\n",
              "      <td>0</td>\n",
              "      <td>1</td>\n",
              "      <td>0</td>\n",
              "      <td>sales</td>\n",
              "      <td>medium</td>\n",
              "    </tr>\n",
              "  </tbody>\n",
              "</table>\n",
              "</div>"
            ],
            "text/plain": [
              "   satisfaction_level  last_evaluation  ...  sales  salary\n",
              "0                0.38             0.53  ...  sales     low\n",
              "1                0.80             0.86  ...  sales  medium\n",
              "2                0.11             0.88  ...  sales  medium\n",
              "\n",
              "[3 rows x 10 columns]"
            ]
          },
          "metadata": {
            "tags": []
          },
          "execution_count": 6
        }
      ]
    },
    {
      "cell_type": "code",
      "metadata": {
        "id": "yF88hi-58S8G",
        "colab_type": "code",
        "colab": {
          "base_uri": "https://localhost:8080/",
          "height": 297
        },
        "outputId": "62b88d94-dbea-4c95-f719-ef41f6fc9dac"
      },
      "source": [
        "df.describe()"
      ],
      "execution_count": 7,
      "outputs": [
        {
          "output_type": "execute_result",
          "data": {
            "text/html": [
              "<div>\n",
              "<style scoped>\n",
              "    .dataframe tbody tr th:only-of-type {\n",
              "        vertical-align: middle;\n",
              "    }\n",
              "\n",
              "    .dataframe tbody tr th {\n",
              "        vertical-align: top;\n",
              "    }\n",
              "\n",
              "    .dataframe thead th {\n",
              "        text-align: right;\n",
              "    }\n",
              "</style>\n",
              "<table border=\"1\" class=\"dataframe\">\n",
              "  <thead>\n",
              "    <tr style=\"text-align: right;\">\n",
              "      <th></th>\n",
              "      <th>satisfaction_level</th>\n",
              "      <th>last_evaluation</th>\n",
              "      <th>number_project</th>\n",
              "      <th>average_montly_hours</th>\n",
              "      <th>time_spend_company</th>\n",
              "      <th>Work_accident</th>\n",
              "      <th>left</th>\n",
              "      <th>promotion_last_5years</th>\n",
              "    </tr>\n",
              "  </thead>\n",
              "  <tbody>\n",
              "    <tr>\n",
              "      <th>count</th>\n",
              "      <td>14999.000000</td>\n",
              "      <td>14999.000000</td>\n",
              "      <td>14999.000000</td>\n",
              "      <td>14999.000000</td>\n",
              "      <td>14999.000000</td>\n",
              "      <td>14999.000000</td>\n",
              "      <td>14999.000000</td>\n",
              "      <td>14999.000000</td>\n",
              "    </tr>\n",
              "    <tr>\n",
              "      <th>mean</th>\n",
              "      <td>0.612834</td>\n",
              "      <td>0.716102</td>\n",
              "      <td>3.803054</td>\n",
              "      <td>201.050337</td>\n",
              "      <td>3.498233</td>\n",
              "      <td>0.144610</td>\n",
              "      <td>0.238083</td>\n",
              "      <td>0.021268</td>\n",
              "    </tr>\n",
              "    <tr>\n",
              "      <th>std</th>\n",
              "      <td>0.248631</td>\n",
              "      <td>0.171169</td>\n",
              "      <td>1.232592</td>\n",
              "      <td>49.943099</td>\n",
              "      <td>1.460136</td>\n",
              "      <td>0.351719</td>\n",
              "      <td>0.425924</td>\n",
              "      <td>0.144281</td>\n",
              "    </tr>\n",
              "    <tr>\n",
              "      <th>min</th>\n",
              "      <td>0.090000</td>\n",
              "      <td>0.360000</td>\n",
              "      <td>2.000000</td>\n",
              "      <td>96.000000</td>\n",
              "      <td>2.000000</td>\n",
              "      <td>0.000000</td>\n",
              "      <td>0.000000</td>\n",
              "      <td>0.000000</td>\n",
              "    </tr>\n",
              "    <tr>\n",
              "      <th>25%</th>\n",
              "      <td>0.440000</td>\n",
              "      <td>0.560000</td>\n",
              "      <td>3.000000</td>\n",
              "      <td>156.000000</td>\n",
              "      <td>3.000000</td>\n",
              "      <td>0.000000</td>\n",
              "      <td>0.000000</td>\n",
              "      <td>0.000000</td>\n",
              "    </tr>\n",
              "    <tr>\n",
              "      <th>50%</th>\n",
              "      <td>0.640000</td>\n",
              "      <td>0.720000</td>\n",
              "      <td>4.000000</td>\n",
              "      <td>200.000000</td>\n",
              "      <td>3.000000</td>\n",
              "      <td>0.000000</td>\n",
              "      <td>0.000000</td>\n",
              "      <td>0.000000</td>\n",
              "    </tr>\n",
              "    <tr>\n",
              "      <th>75%</th>\n",
              "      <td>0.820000</td>\n",
              "      <td>0.870000</td>\n",
              "      <td>5.000000</td>\n",
              "      <td>245.000000</td>\n",
              "      <td>4.000000</td>\n",
              "      <td>0.000000</td>\n",
              "      <td>0.000000</td>\n",
              "      <td>0.000000</td>\n",
              "    </tr>\n",
              "    <tr>\n",
              "      <th>max</th>\n",
              "      <td>1.000000</td>\n",
              "      <td>1.000000</td>\n",
              "      <td>7.000000</td>\n",
              "      <td>310.000000</td>\n",
              "      <td>10.000000</td>\n",
              "      <td>1.000000</td>\n",
              "      <td>1.000000</td>\n",
              "      <td>1.000000</td>\n",
              "    </tr>\n",
              "  </tbody>\n",
              "</table>\n",
              "</div>"
            ],
            "text/plain": [
              "       satisfaction_level  last_evaluation  ...          left  promotion_last_5years\n",
              "count        14999.000000     14999.000000  ...  14999.000000           14999.000000\n",
              "mean             0.612834         0.716102  ...      0.238083               0.021268\n",
              "std              0.248631         0.171169  ...      0.425924               0.144281\n",
              "min              0.090000         0.360000  ...      0.000000               0.000000\n",
              "25%              0.440000         0.560000  ...      0.000000               0.000000\n",
              "50%              0.640000         0.720000  ...      0.000000               0.000000\n",
              "75%              0.820000         0.870000  ...      0.000000               0.000000\n",
              "max              1.000000         1.000000  ...      1.000000               1.000000\n",
              "\n",
              "[8 rows x 8 columns]"
            ]
          },
          "metadata": {
            "tags": []
          },
          "execution_count": 7
        }
      ]
    },
    {
      "cell_type": "code",
      "metadata": {
        "id": "ZxKcKwtF8S8X",
        "colab_type": "code",
        "colab": {
          "base_uri": "https://localhost:8080/",
          "height": 68
        },
        "outputId": "9af6ddcb-8111-49c7-cb0c-0cf1495cd478"
      },
      "source": [
        "#Benchmark\n",
        "df.left.value_counts() / len(df)"
      ],
      "execution_count": 12,
      "outputs": [
        {
          "output_type": "execute_result",
          "data": {
            "text/plain": [
              "0    0.761917\n",
              "1    0.238083\n",
              "Name: left, dtype: float64"
            ]
          },
          "metadata": {
            "tags": []
          },
          "execution_count": 12
        }
      ]
    },
    {
      "cell_type": "code",
      "metadata": {
        "id": "yeOH3EAW8UYw",
        "colab_type": "code",
        "colab": {
          "base_uri": "https://localhost:8080/",
          "height": 204
        },
        "outputId": "1df392ad-6edf-4f4f-a7e4-31240a83c7ba"
      },
      "source": [
        "pd.get_dummies(df['sales'], prefix='sales').head()"
      ],
      "execution_count": 37,
      "outputs": [
        {
          "output_type": "execute_result",
          "data": {
            "text/html": [
              "<div>\n",
              "<style scoped>\n",
              "    .dataframe tbody tr th:only-of-type {\n",
              "        vertical-align: middle;\n",
              "    }\n",
              "\n",
              "    .dataframe tbody tr th {\n",
              "        vertical-align: top;\n",
              "    }\n",
              "\n",
              "    .dataframe thead th {\n",
              "        text-align: right;\n",
              "    }\n",
              "</style>\n",
              "<table border=\"1\" class=\"dataframe\">\n",
              "  <thead>\n",
              "    <tr style=\"text-align: right;\">\n",
              "      <th></th>\n",
              "      <th>sales_IT</th>\n",
              "      <th>sales_RandD</th>\n",
              "      <th>sales_accounting</th>\n",
              "      <th>sales_hr</th>\n",
              "      <th>sales_management</th>\n",
              "      <th>sales_marketing</th>\n",
              "      <th>sales_product_mng</th>\n",
              "      <th>sales_sales</th>\n",
              "      <th>sales_support</th>\n",
              "      <th>sales_technical</th>\n",
              "    </tr>\n",
              "  </thead>\n",
              "  <tbody>\n",
              "    <tr>\n",
              "      <th>0</th>\n",
              "      <td>0</td>\n",
              "      <td>0</td>\n",
              "      <td>0</td>\n",
              "      <td>0</td>\n",
              "      <td>0</td>\n",
              "      <td>0</td>\n",
              "      <td>0</td>\n",
              "      <td>1</td>\n",
              "      <td>0</td>\n",
              "      <td>0</td>\n",
              "    </tr>\n",
              "    <tr>\n",
              "      <th>1</th>\n",
              "      <td>0</td>\n",
              "      <td>0</td>\n",
              "      <td>0</td>\n",
              "      <td>0</td>\n",
              "      <td>0</td>\n",
              "      <td>0</td>\n",
              "      <td>0</td>\n",
              "      <td>1</td>\n",
              "      <td>0</td>\n",
              "      <td>0</td>\n",
              "    </tr>\n",
              "    <tr>\n",
              "      <th>2</th>\n",
              "      <td>0</td>\n",
              "      <td>0</td>\n",
              "      <td>0</td>\n",
              "      <td>0</td>\n",
              "      <td>0</td>\n",
              "      <td>0</td>\n",
              "      <td>0</td>\n",
              "      <td>1</td>\n",
              "      <td>0</td>\n",
              "      <td>0</td>\n",
              "    </tr>\n",
              "    <tr>\n",
              "      <th>3</th>\n",
              "      <td>0</td>\n",
              "      <td>0</td>\n",
              "      <td>0</td>\n",
              "      <td>0</td>\n",
              "      <td>0</td>\n",
              "      <td>0</td>\n",
              "      <td>0</td>\n",
              "      <td>1</td>\n",
              "      <td>0</td>\n",
              "      <td>0</td>\n",
              "    </tr>\n",
              "    <tr>\n",
              "      <th>4</th>\n",
              "      <td>0</td>\n",
              "      <td>0</td>\n",
              "      <td>0</td>\n",
              "      <td>0</td>\n",
              "      <td>0</td>\n",
              "      <td>0</td>\n",
              "      <td>0</td>\n",
              "      <td>1</td>\n",
              "      <td>0</td>\n",
              "      <td>0</td>\n",
              "    </tr>\n",
              "  </tbody>\n",
              "</table>\n",
              "</div>"
            ],
            "text/plain": [
              "   sales_IT  sales_RandD  ...  sales_support  sales_technical\n",
              "0         0            0  ...              0                0\n",
              "1         0            0  ...              0                0\n",
              "2         0            0  ...              0                0\n",
              "3         0            0  ...              0                0\n",
              "4         0            0  ...              0                0\n",
              "\n",
              "[5 rows x 10 columns]"
            ]
          },
          "metadata": {
            "tags": []
          },
          "execution_count": 37
        }
      ]
    },
    {
      "cell_type": "code",
      "metadata": {
        "id": "2M0ZQiO7-gW4",
        "colab_type": "code",
        "colab": {
          "base_uri": "https://localhost:8080/",
          "height": 204
        },
        "outputId": "870e3085-0bb7-44f1-99cd-d7d1638836f4"
      },
      "source": [
        "pd.get_dummies(df['salary'], prefix='salary').head()"
      ],
      "execution_count": 13,
      "outputs": [
        {
          "output_type": "execute_result",
          "data": {
            "text/html": [
              "<div>\n",
              "<style scoped>\n",
              "    .dataframe tbody tr th:only-of-type {\n",
              "        vertical-align: middle;\n",
              "    }\n",
              "\n",
              "    .dataframe tbody tr th {\n",
              "        vertical-align: top;\n",
              "    }\n",
              "\n",
              "    .dataframe thead th {\n",
              "        text-align: right;\n",
              "    }\n",
              "</style>\n",
              "<table border=\"1\" class=\"dataframe\">\n",
              "  <thead>\n",
              "    <tr style=\"text-align: right;\">\n",
              "      <th></th>\n",
              "      <th>salary_high</th>\n",
              "      <th>salary_low</th>\n",
              "      <th>salary_medium</th>\n",
              "    </tr>\n",
              "  </thead>\n",
              "  <tbody>\n",
              "    <tr>\n",
              "      <th>0</th>\n",
              "      <td>0</td>\n",
              "      <td>1</td>\n",
              "      <td>0</td>\n",
              "    </tr>\n",
              "    <tr>\n",
              "      <th>1</th>\n",
              "      <td>0</td>\n",
              "      <td>0</td>\n",
              "      <td>1</td>\n",
              "    </tr>\n",
              "    <tr>\n",
              "      <th>2</th>\n",
              "      <td>0</td>\n",
              "      <td>0</td>\n",
              "      <td>1</td>\n",
              "    </tr>\n",
              "    <tr>\n",
              "      <th>3</th>\n",
              "      <td>0</td>\n",
              "      <td>1</td>\n",
              "      <td>0</td>\n",
              "    </tr>\n",
              "    <tr>\n",
              "      <th>4</th>\n",
              "      <td>0</td>\n",
              "      <td>1</td>\n",
              "      <td>0</td>\n",
              "    </tr>\n",
              "  </tbody>\n",
              "</table>\n",
              "</div>"
            ],
            "text/plain": [
              "   salary_high  salary_low  salary_medium\n",
              "0            0           1              0\n",
              "1            0           0              1\n",
              "2            0           0              1\n",
              "3            0           1              0\n",
              "4            0           1              0"
            ]
          },
          "metadata": {
            "tags": []
          },
          "execution_count": 13
        }
      ]
    },
    {
      "cell_type": "code",
      "metadata": {
        "id": "USly1f5m-nSc",
        "colab_type": "code",
        "colab": {
          "base_uri": "https://localhost:8080/",
          "height": 439
        },
        "outputId": "2d47d7cf-a789-4f88-9d48-0802cccb70c5"
      },
      "source": [
        "x = pd.concat([df[[\"satisfaction_level\",\"last_evaluation\",\"number_project\",\"average_montly_hours\",\"time_spend_company\",\"Work_accident\",\"promotion_last_5years\"]], pd.get_dummies(df['salary'], prefix='salary'), pd.get_dummies(df['sales'], prefix='sales')], axis=1)\n",
        "x"
      ],
      "execution_count": 89,
      "outputs": [
        {
          "output_type": "execute_result",
          "data": {
            "text/html": [
              "<div>\n",
              "<style scoped>\n",
              "    .dataframe tbody tr th:only-of-type {\n",
              "        vertical-align: middle;\n",
              "    }\n",
              "\n",
              "    .dataframe tbody tr th {\n",
              "        vertical-align: top;\n",
              "    }\n",
              "\n",
              "    .dataframe thead th {\n",
              "        text-align: right;\n",
              "    }\n",
              "</style>\n",
              "<table border=\"1\" class=\"dataframe\">\n",
              "  <thead>\n",
              "    <tr style=\"text-align: right;\">\n",
              "      <th></th>\n",
              "      <th>satisfaction_level</th>\n",
              "      <th>last_evaluation</th>\n",
              "      <th>number_project</th>\n",
              "      <th>average_montly_hours</th>\n",
              "      <th>time_spend_company</th>\n",
              "      <th>Work_accident</th>\n",
              "      <th>promotion_last_5years</th>\n",
              "      <th>salary_high</th>\n",
              "      <th>salary_low</th>\n",
              "      <th>salary_medium</th>\n",
              "      <th>sales_IT</th>\n",
              "      <th>sales_RandD</th>\n",
              "      <th>sales_accounting</th>\n",
              "      <th>sales_hr</th>\n",
              "      <th>sales_management</th>\n",
              "      <th>sales_marketing</th>\n",
              "      <th>sales_product_mng</th>\n",
              "      <th>sales_sales</th>\n",
              "      <th>sales_support</th>\n",
              "      <th>sales_technical</th>\n",
              "    </tr>\n",
              "  </thead>\n",
              "  <tbody>\n",
              "    <tr>\n",
              "      <th>0</th>\n",
              "      <td>0.38</td>\n",
              "      <td>0.53</td>\n",
              "      <td>2</td>\n",
              "      <td>157</td>\n",
              "      <td>3</td>\n",
              "      <td>0</td>\n",
              "      <td>0</td>\n",
              "      <td>0</td>\n",
              "      <td>1</td>\n",
              "      <td>0</td>\n",
              "      <td>0</td>\n",
              "      <td>0</td>\n",
              "      <td>0</td>\n",
              "      <td>0</td>\n",
              "      <td>0</td>\n",
              "      <td>0</td>\n",
              "      <td>0</td>\n",
              "      <td>1</td>\n",
              "      <td>0</td>\n",
              "      <td>0</td>\n",
              "    </tr>\n",
              "    <tr>\n",
              "      <th>1</th>\n",
              "      <td>0.80</td>\n",
              "      <td>0.86</td>\n",
              "      <td>5</td>\n",
              "      <td>262</td>\n",
              "      <td>6</td>\n",
              "      <td>0</td>\n",
              "      <td>0</td>\n",
              "      <td>0</td>\n",
              "      <td>0</td>\n",
              "      <td>1</td>\n",
              "      <td>0</td>\n",
              "      <td>0</td>\n",
              "      <td>0</td>\n",
              "      <td>0</td>\n",
              "      <td>0</td>\n",
              "      <td>0</td>\n",
              "      <td>0</td>\n",
              "      <td>1</td>\n",
              "      <td>0</td>\n",
              "      <td>0</td>\n",
              "    </tr>\n",
              "    <tr>\n",
              "      <th>2</th>\n",
              "      <td>0.11</td>\n",
              "      <td>0.88</td>\n",
              "      <td>7</td>\n",
              "      <td>272</td>\n",
              "      <td>4</td>\n",
              "      <td>0</td>\n",
              "      <td>0</td>\n",
              "      <td>0</td>\n",
              "      <td>0</td>\n",
              "      <td>1</td>\n",
              "      <td>0</td>\n",
              "      <td>0</td>\n",
              "      <td>0</td>\n",
              "      <td>0</td>\n",
              "      <td>0</td>\n",
              "      <td>0</td>\n",
              "      <td>0</td>\n",
              "      <td>1</td>\n",
              "      <td>0</td>\n",
              "      <td>0</td>\n",
              "    </tr>\n",
              "    <tr>\n",
              "      <th>3</th>\n",
              "      <td>0.72</td>\n",
              "      <td>0.87</td>\n",
              "      <td>5</td>\n",
              "      <td>223</td>\n",
              "      <td>5</td>\n",
              "      <td>0</td>\n",
              "      <td>0</td>\n",
              "      <td>0</td>\n",
              "      <td>1</td>\n",
              "      <td>0</td>\n",
              "      <td>0</td>\n",
              "      <td>0</td>\n",
              "      <td>0</td>\n",
              "      <td>0</td>\n",
              "      <td>0</td>\n",
              "      <td>0</td>\n",
              "      <td>0</td>\n",
              "      <td>1</td>\n",
              "      <td>0</td>\n",
              "      <td>0</td>\n",
              "    </tr>\n",
              "    <tr>\n",
              "      <th>4</th>\n",
              "      <td>0.37</td>\n",
              "      <td>0.52</td>\n",
              "      <td>2</td>\n",
              "      <td>159</td>\n",
              "      <td>3</td>\n",
              "      <td>0</td>\n",
              "      <td>0</td>\n",
              "      <td>0</td>\n",
              "      <td>1</td>\n",
              "      <td>0</td>\n",
              "      <td>0</td>\n",
              "      <td>0</td>\n",
              "      <td>0</td>\n",
              "      <td>0</td>\n",
              "      <td>0</td>\n",
              "      <td>0</td>\n",
              "      <td>0</td>\n",
              "      <td>1</td>\n",
              "      <td>0</td>\n",
              "      <td>0</td>\n",
              "    </tr>\n",
              "    <tr>\n",
              "      <th>...</th>\n",
              "      <td>...</td>\n",
              "      <td>...</td>\n",
              "      <td>...</td>\n",
              "      <td>...</td>\n",
              "      <td>...</td>\n",
              "      <td>...</td>\n",
              "      <td>...</td>\n",
              "      <td>...</td>\n",
              "      <td>...</td>\n",
              "      <td>...</td>\n",
              "      <td>...</td>\n",
              "      <td>...</td>\n",
              "      <td>...</td>\n",
              "      <td>...</td>\n",
              "      <td>...</td>\n",
              "      <td>...</td>\n",
              "      <td>...</td>\n",
              "      <td>...</td>\n",
              "      <td>...</td>\n",
              "      <td>...</td>\n",
              "    </tr>\n",
              "    <tr>\n",
              "      <th>14994</th>\n",
              "      <td>0.40</td>\n",
              "      <td>0.57</td>\n",
              "      <td>2</td>\n",
              "      <td>151</td>\n",
              "      <td>3</td>\n",
              "      <td>0</td>\n",
              "      <td>0</td>\n",
              "      <td>0</td>\n",
              "      <td>1</td>\n",
              "      <td>0</td>\n",
              "      <td>0</td>\n",
              "      <td>0</td>\n",
              "      <td>0</td>\n",
              "      <td>0</td>\n",
              "      <td>0</td>\n",
              "      <td>0</td>\n",
              "      <td>0</td>\n",
              "      <td>0</td>\n",
              "      <td>1</td>\n",
              "      <td>0</td>\n",
              "    </tr>\n",
              "    <tr>\n",
              "      <th>14995</th>\n",
              "      <td>0.37</td>\n",
              "      <td>0.48</td>\n",
              "      <td>2</td>\n",
              "      <td>160</td>\n",
              "      <td>3</td>\n",
              "      <td>0</td>\n",
              "      <td>0</td>\n",
              "      <td>0</td>\n",
              "      <td>1</td>\n",
              "      <td>0</td>\n",
              "      <td>0</td>\n",
              "      <td>0</td>\n",
              "      <td>0</td>\n",
              "      <td>0</td>\n",
              "      <td>0</td>\n",
              "      <td>0</td>\n",
              "      <td>0</td>\n",
              "      <td>0</td>\n",
              "      <td>1</td>\n",
              "      <td>0</td>\n",
              "    </tr>\n",
              "    <tr>\n",
              "      <th>14996</th>\n",
              "      <td>0.37</td>\n",
              "      <td>0.53</td>\n",
              "      <td>2</td>\n",
              "      <td>143</td>\n",
              "      <td>3</td>\n",
              "      <td>0</td>\n",
              "      <td>0</td>\n",
              "      <td>0</td>\n",
              "      <td>1</td>\n",
              "      <td>0</td>\n",
              "      <td>0</td>\n",
              "      <td>0</td>\n",
              "      <td>0</td>\n",
              "      <td>0</td>\n",
              "      <td>0</td>\n",
              "      <td>0</td>\n",
              "      <td>0</td>\n",
              "      <td>0</td>\n",
              "      <td>1</td>\n",
              "      <td>0</td>\n",
              "    </tr>\n",
              "    <tr>\n",
              "      <th>14997</th>\n",
              "      <td>0.11</td>\n",
              "      <td>0.96</td>\n",
              "      <td>6</td>\n",
              "      <td>280</td>\n",
              "      <td>4</td>\n",
              "      <td>0</td>\n",
              "      <td>0</td>\n",
              "      <td>0</td>\n",
              "      <td>1</td>\n",
              "      <td>0</td>\n",
              "      <td>0</td>\n",
              "      <td>0</td>\n",
              "      <td>0</td>\n",
              "      <td>0</td>\n",
              "      <td>0</td>\n",
              "      <td>0</td>\n",
              "      <td>0</td>\n",
              "      <td>0</td>\n",
              "      <td>1</td>\n",
              "      <td>0</td>\n",
              "    </tr>\n",
              "    <tr>\n",
              "      <th>14998</th>\n",
              "      <td>0.37</td>\n",
              "      <td>0.52</td>\n",
              "      <td>2</td>\n",
              "      <td>158</td>\n",
              "      <td>3</td>\n",
              "      <td>0</td>\n",
              "      <td>0</td>\n",
              "      <td>0</td>\n",
              "      <td>1</td>\n",
              "      <td>0</td>\n",
              "      <td>0</td>\n",
              "      <td>0</td>\n",
              "      <td>0</td>\n",
              "      <td>0</td>\n",
              "      <td>0</td>\n",
              "      <td>0</td>\n",
              "      <td>0</td>\n",
              "      <td>0</td>\n",
              "      <td>1</td>\n",
              "      <td>0</td>\n",
              "    </tr>\n",
              "  </tbody>\n",
              "</table>\n",
              "<p>14999 rows × 20 columns</p>\n",
              "</div>"
            ],
            "text/plain": [
              "       satisfaction_level  last_evaluation  ...  sales_support  sales_technical\n",
              "0                    0.38             0.53  ...              0                0\n",
              "1                    0.80             0.86  ...              0                0\n",
              "2                    0.11             0.88  ...              0                0\n",
              "3                    0.72             0.87  ...              0                0\n",
              "4                    0.37             0.52  ...              0                0\n",
              "...                   ...              ...  ...            ...              ...\n",
              "14994                0.40             0.57  ...              1                0\n",
              "14995                0.37             0.48  ...              1                0\n",
              "14996                0.37             0.53  ...              1                0\n",
              "14997                0.11             0.96  ...              1                0\n",
              "14998                0.37             0.52  ...              1                0\n",
              "\n",
              "[14999 rows x 20 columns]"
            ]
          },
          "metadata": {
            "tags": []
          },
          "execution_count": 89
        }
      ]
    },
    {
      "cell_type": "code",
      "metadata": {
        "id": "Btr9rykj-_YY",
        "colab_type": "code",
        "colab": {
          "base_uri": "https://localhost:8080/",
          "height": 221
        },
        "outputId": "81a38711-ba13-4134-915f-19d2575bead1"
      },
      "source": [
        "y = df[\"left\"]\n",
        "y"
      ],
      "execution_count": 90,
      "outputs": [
        {
          "output_type": "execute_result",
          "data": {
            "text/plain": [
              "0        1\n",
              "1        1\n",
              "2        1\n",
              "3        1\n",
              "4        1\n",
              "        ..\n",
              "14994    1\n",
              "14995    1\n",
              "14996    1\n",
              "14997    1\n",
              "14998    1\n",
              "Name: left, Length: 14999, dtype: int64"
            ]
          },
          "metadata": {
            "tags": []
          },
          "execution_count": 90
        }
      ]
    },
    {
      "cell_type": "code",
      "metadata": {
        "id": "zmNUWqj3Ah28",
        "colab_type": "code",
        "colab": {
          "base_uri": "https://localhost:8080/",
          "height": 136
        },
        "outputId": "46e516a3-86f4-44df-c139-df117675b807"
      },
      "source": [
        "x.keys()"
      ],
      "execution_count": 91,
      "outputs": [
        {
          "output_type": "execute_result",
          "data": {
            "text/plain": [
              "Index(['satisfaction_level', 'last_evaluation', 'number_project',\n",
              "       'average_montly_hours', 'time_spend_company', 'Work_accident',\n",
              "       'promotion_last_5years', 'salary_high', 'salary_low', 'salary_medium',\n",
              "       'sales_IT', 'sales_RandD', 'sales_accounting', 'sales_hr',\n",
              "       'sales_management', 'sales_marketing', 'sales_product_mng',\n",
              "       'sales_sales', 'sales_support', 'sales_technical'],\n",
              "      dtype='object')"
            ]
          },
          "metadata": {
            "tags": []
          },
          "execution_count": 91
        }
      ]
    },
    {
      "cell_type": "code",
      "metadata": {
        "id": "NQFnGjV5AZcS",
        "colab_type": "code",
        "colab": {}
      },
      "source": [
        "from sklearn.preprocessing import StandardScaler, MinMaxScaler\n",
        "\n",
        "ss = StandardScaler()\n",
        "\n",
        "X = x.copy()\n",
        "for key in X.keys():\n",
        "  X[key] = ss.fit_transform(X[[key]])\n",
        "\n",
        "Y = y.copy()\n"
      ],
      "execution_count": 0,
      "outputs": []
    },
    {
      "cell_type": "code",
      "metadata": {
        "id": "VQ6Qs0KM_Iz8",
        "colab_type": "code",
        "colab": {
          "base_uri": "https://localhost:8080/",
          "height": 34
        },
        "outputId": "11049ed0-6466-4b72-aabd-49abea1b69ac"
      },
      "source": [
        "from sklearn.model_selection import train_test_split\n",
        "x_train, x_test, y_train, y_test = train_test_split(X, Y, test_size=0.2)\n",
        "len(x_test)"
      ],
      "execution_count": 93,
      "outputs": [
        {
          "output_type": "execute_result",
          "data": {
            "text/plain": [
              "3000"
            ]
          },
          "metadata": {
            "tags": []
          },
          "execution_count": 93
        }
      ]
    },
    {
      "cell_type": "code",
      "metadata": {
        "colab_type": "code",
        "id": "YVtRSFK2B-31",
        "colab": {}
      },
      "source": [
        "from keras.optimizers import Adam, SGD\n",
        "from keras.models import Sequential\n",
        "from keras.layers import Dense\n",
        "model = Sequential()\n",
        "model.add(Dense(1, input_shape=(20,), activation='sigmoid')) #input_dim=20 ?\n",
        "model.compile(SGD(lr=0.5), 'binary_crossentropy', metrics=['accuracy'])"
      ],
      "execution_count": 0,
      "outputs": []
    },
    {
      "cell_type": "code",
      "metadata": {
        "colab_type": "code",
        "outputId": "62ea5b90-2694-4223-fa2f-0763d2347d2d",
        "id": "zpokPkXiB-3_",
        "colab": {
          "base_uri": "https://localhost:8080/",
          "height": 187
        }
      },
      "source": [
        "model.summary()"
      ],
      "execution_count": 95,
      "outputs": [
        {
          "output_type": "stream",
          "text": [
            "Model: \"sequential_9\"\n",
            "_________________________________________________________________\n",
            "Layer (type)                 Output Shape              Param #   \n",
            "=================================================================\n",
            "dense_8 (Dense)              (None, 1)                 21        \n",
            "=================================================================\n",
            "Total params: 21\n",
            "Trainable params: 21\n",
            "Non-trainable params: 0\n",
            "_________________________________________________________________\n"
          ],
          "name": "stdout"
        }
      ]
    },
    {
      "cell_type": "code",
      "metadata": {
        "colab_type": "code",
        "outputId": "0525015d-a697-4ad2-dced-2b9c0e5d82c4",
        "id": "a_CduZYXB-4E",
        "colab": {
          "base_uri": "https://localhost:8080/",
          "height": 884
        }
      },
      "source": [
        "model.fit(x_train, y_train, epochs=25)"
      ],
      "execution_count": 96,
      "outputs": [
        {
          "output_type": "stream",
          "text": [
            "Epoch 1/25\n",
            "11999/11999 [==============================] - 0s 31us/step - loss: 0.4488 - accuracy: 0.7849\n",
            "Epoch 2/25\n",
            "11999/11999 [==============================] - 0s 29us/step - loss: 0.4402 - accuracy: 0.7908\n",
            "Epoch 3/25\n",
            "11999/11999 [==============================] - 0s 29us/step - loss: 0.4420 - accuracy: 0.7904\n",
            "Epoch 4/25\n",
            "11999/11999 [==============================] - 0s 29us/step - loss: 0.4407 - accuracy: 0.7926\n",
            "Epoch 5/25\n",
            "11999/11999 [==============================] - 0s 28us/step - loss: 0.4410 - accuracy: 0.7896\n",
            "Epoch 6/25\n",
            "11999/11999 [==============================] - 0s 33us/step - loss: 0.4421 - accuracy: 0.7903\n",
            "Epoch 7/25\n",
            "11999/11999 [==============================] - 0s 31us/step - loss: 0.4407 - accuracy: 0.7869\n",
            "Epoch 8/25\n",
            "11999/11999 [==============================] - 0s 29us/step - loss: 0.4417 - accuracy: 0.7914\n",
            "Epoch 9/25\n",
            "11999/11999 [==============================] - 0s 29us/step - loss: 0.4423 - accuracy: 0.7866\n",
            "Epoch 10/25\n",
            "11999/11999 [==============================] - 0s 29us/step - loss: 0.4417 - accuracy: 0.7866\n",
            "Epoch 11/25\n",
            "11999/11999 [==============================] - 0s 29us/step - loss: 0.4416 - accuracy: 0.7902\n",
            "Epoch 12/25\n",
            "11999/11999 [==============================] - 0s 29us/step - loss: 0.4417 - accuracy: 0.7882\n",
            "Epoch 13/25\n",
            "11999/11999 [==============================] - 0s 31us/step - loss: 0.4429 - accuracy: 0.7884\n",
            "Epoch 14/25\n",
            "11999/11999 [==============================] - 0s 30us/step - loss: 0.4422 - accuracy: 0.7861\n",
            "Epoch 15/25\n",
            "11999/11999 [==============================] - 0s 30us/step - loss: 0.4422 - accuracy: 0.7873\n",
            "Epoch 16/25\n",
            "11999/11999 [==============================] - 0s 29us/step - loss: 0.4419 - accuracy: 0.7909\n",
            "Epoch 17/25\n",
            "11999/11999 [==============================] - 0s 29us/step - loss: 0.4416 - accuracy: 0.7879\n",
            "Epoch 18/25\n",
            "11999/11999 [==============================] - 0s 33us/step - loss: 0.4419 - accuracy: 0.7886\n",
            "Epoch 19/25\n",
            "11999/11999 [==============================] - 0s 30us/step - loss: 0.4417 - accuracy: 0.7886\n",
            "Epoch 20/25\n",
            "11999/11999 [==============================] - 0s 30us/step - loss: 0.4413 - accuracy: 0.7882\n",
            "Epoch 21/25\n",
            "11999/11999 [==============================] - 0s 30us/step - loss: 0.4419 - accuracy: 0.7889\n",
            "Epoch 22/25\n",
            "11999/11999 [==============================] - 0s 33us/step - loss: 0.4416 - accuracy: 0.7880\n",
            "Epoch 23/25\n",
            "11999/11999 [==============================] - 0s 29us/step - loss: 0.4409 - accuracy: 0.7889\n",
            "Epoch 24/25\n",
            "11999/11999 [==============================] - 0s 32us/step - loss: 0.4424 - accuracy: 0.7849\n",
            "Epoch 25/25\n",
            "11999/11999 [==============================] - 0s 35us/step - loss: 0.4408 - accuracy: 0.7884\n"
          ],
          "name": "stdout"
        },
        {
          "output_type": "execute_result",
          "data": {
            "text/plain": [
              "<keras.callbacks.callbacks.History at 0x7fba2310eac8>"
            ]
          },
          "metadata": {
            "tags": []
          },
          "execution_count": 96
        }
      ]
    },
    {
      "cell_type": "code",
      "metadata": {
        "id": "MjPWwBkDCRnA",
        "colab_type": "code",
        "colab": {}
      },
      "source": [
        "y_test_pred = model.predict_classes(x_test)"
      ],
      "execution_count": 0,
      "outputs": []
    },
    {
      "cell_type": "code",
      "metadata": {
        "id": "8P5b_kyK--Ji",
        "colab_type": "code",
        "colab": {
          "base_uri": "https://localhost:8080/",
          "height": 34
        },
        "outputId": "5d9c7b1d-5faf-46ad-ca72-3ea9b6dce3a3"
      },
      "source": [
        "y_test.ravel()"
      ],
      "execution_count": 98,
      "outputs": [
        {
          "output_type": "execute_result",
          "data": {
            "text/plain": [
              "array([0, 0, 1, ..., 0, 0, 0])"
            ]
          },
          "metadata": {
            "tags": []
          },
          "execution_count": 98
        }
      ]
    },
    {
      "cell_type": "code",
      "metadata": {
        "colab_type": "code",
        "id": "spl0ahruCmLU",
        "colab": {}
      },
      "source": [
        "from sklearn.metrics import confusion_matrix, classification_report"
      ],
      "execution_count": 0,
      "outputs": []
    },
    {
      "cell_type": "code",
      "metadata": {
        "scrolled": false,
        "colab_type": "code",
        "outputId": "4648260a-14f7-4308-8f19-f4a62545daf4",
        "id": "J5sJZTwKCmLZ",
        "colab": {
          "base_uri": "https://localhost:8080/",
          "height": 51
        }
      },
      "source": [
        "confusion_matrix(y_test, y_test_pred)"
      ],
      "execution_count": 100,
      "outputs": [
        {
          "output_type": "execute_result",
          "data": {
            "text/plain": [
              "array([[2143,  133],\n",
              "       [ 534,  190]])"
            ]
          },
          "metadata": {
            "tags": []
          },
          "execution_count": 100
        }
      ]
    },
    {
      "cell_type": "code",
      "metadata": {
        "colab_type": "code",
        "id": "cr2d2GEcCmLb",
        "colab": {}
      },
      "source": [
        "def pretty_confusion_matrix(y_true, y_pred, labels=[\"False\", \"True\"]):\n",
        "    cm = confusion_matrix(y_true, y_pred)\n",
        "    pred_labels = ['Predicted '+ l for l in labels]\n",
        "    df = pd.DataFrame(cm, index=labels, columns=pred_labels)\n",
        "    return df"
      ],
      "execution_count": 0,
      "outputs": []
    },
    {
      "cell_type": "code",
      "metadata": {
        "colab_type": "code",
        "outputId": "8ceb29bd-eccf-4738-abeb-72fd9eb7b9af",
        "id": "mxegJMb_CmLe",
        "colab": {
          "base_uri": "https://localhost:8080/",
          "height": 111
        }
      },
      "source": [
        "pretty_confusion_matrix(y_test, y_test_pred, ['Stay', 'Leave'])"
      ],
      "execution_count": 102,
      "outputs": [
        {
          "output_type": "execute_result",
          "data": {
            "text/html": [
              "<div>\n",
              "<style scoped>\n",
              "    .dataframe tbody tr th:only-of-type {\n",
              "        vertical-align: middle;\n",
              "    }\n",
              "\n",
              "    .dataframe tbody tr th {\n",
              "        vertical-align: top;\n",
              "    }\n",
              "\n",
              "    .dataframe thead th {\n",
              "        text-align: right;\n",
              "    }\n",
              "</style>\n",
              "<table border=\"1\" class=\"dataframe\">\n",
              "  <thead>\n",
              "    <tr style=\"text-align: right;\">\n",
              "      <th></th>\n",
              "      <th>Predicted Stay</th>\n",
              "      <th>Predicted Leave</th>\n",
              "    </tr>\n",
              "  </thead>\n",
              "  <tbody>\n",
              "    <tr>\n",
              "      <th>Stay</th>\n",
              "      <td>2143</td>\n",
              "      <td>133</td>\n",
              "    </tr>\n",
              "    <tr>\n",
              "      <th>Leave</th>\n",
              "      <td>534</td>\n",
              "      <td>190</td>\n",
              "    </tr>\n",
              "  </tbody>\n",
              "</table>\n",
              "</div>"
            ],
            "text/plain": [
              "       Predicted Stay  Predicted Leave\n",
              "Stay             2143              133\n",
              "Leave             534              190"
            ]
          },
          "metadata": {
            "tags": []
          },
          "execution_count": 102
        }
      ]
    },
    {
      "cell_type": "code",
      "metadata": {
        "id": "Rp3FMiW0Cnlw",
        "colab_type": "code",
        "colab": {
          "base_uri": "https://localhost:8080/",
          "height": 170
        },
        "outputId": "a78c380c-acdf-4ec9-bcf7-3e4c10de9feb"
      },
      "source": [
        "print(classification_report(y_test, y_test_pred))"
      ],
      "execution_count": 103,
      "outputs": [
        {
          "output_type": "stream",
          "text": [
            "              precision    recall  f1-score   support\n",
            "\n",
            "           0       0.80      0.94      0.87      2276\n",
            "           1       0.59      0.26      0.36       724\n",
            "\n",
            "    accuracy                           0.78      3000\n",
            "   macro avg       0.69      0.60      0.61      3000\n",
            "weighted avg       0.75      0.78      0.74      3000\n",
            "\n"
          ],
          "name": "stdout"
        }
      ]
    },
    {
      "cell_type": "code",
      "metadata": {
        "id": "m3sOmAK2-r18",
        "colab_type": "code",
        "colab": {}
      },
      "source": [
        "from keras.wrappers.scikit_learn import KerasClassifier\n",
        "\n",
        "def build_logistic_regression_model():\n",
        "    model = Sequential()\n",
        "    model.add(Dense(1, input_dim=20, activation='sigmoid'))\n",
        "    model.compile(Adam(lr=0.5), 'binary_crossentropy', metrics=['accuracy'])\n",
        "    return model\n",
        "\n",
        "model = KerasClassifier(build_fn=build_logistic_regression_model, epochs=10, verbose=0) "
      ],
      "execution_count": 0,
      "outputs": []
    },
    {
      "cell_type": "code",
      "metadata": {
        "id": "NaMCG_tNBTyg",
        "colab_type": "code",
        "colab": {}
      },
      "source": [
        "from sklearn.model_selection import KFold, cross_val_score\n"
      ],
      "execution_count": 0,
      "outputs": []
    },
    {
      "cell_type": "code",
      "metadata": {
        "id": "kAy6dujQBXsG",
        "colab_type": "code",
        "colab": {
          "base_uri": "https://localhost:8080/",
          "height": 34
        },
        "outputId": "ac93c57b-cd8e-4b27-945e-a706a690fe15"
      },
      "source": [
        "cv = KFold(5, shuffle=True)\n",
        "scores = cross_val_score(model, X, Y, cv=cv)\n",
        "\n",
        "print(\"The cross validation accuracy is {:0.4f} ± {:0.4f}\".format(scores.mean(), scores.std()))"
      ],
      "execution_count": 106,
      "outputs": [
        {
          "output_type": "stream",
          "text": [
            "The cross validation accuracy is 0.7568 ± 0.0236\n"
          ],
          "name": "stdout"
        }
      ]
    },
    {
      "cell_type": "code",
      "metadata": {
        "id": "djOwSQCXBZul",
        "colab_type": "code",
        "colab": {
          "base_uri": "https://localhost:8080/",
          "height": 34
        },
        "outputId": "0576ff66-1113-48d5-9b05-ebc5fccbcfa5"
      },
      "source": [
        "scores"
      ],
      "execution_count": 107,
      "outputs": [
        {
          "output_type": "execute_result",
          "data": {
            "text/plain": [
              "array([0.76333332, 0.76366669, 0.73433334, 0.79400003, 0.72857618])"
            ]
          },
          "metadata": {
            "tags": []
          },
          "execution_count": 107
        }
      ]
    },
    {
      "cell_type": "code",
      "metadata": {
        "id": "3isXPrEMBc2l",
        "colab_type": "code",
        "colab": {}
      },
      "source": [
        ""
      ],
      "execution_count": 0,
      "outputs": []
    }
  ]
}